{
  "nbformat": 4,
  "nbformat_minor": 0,
  "metadata": {
    "kernelspec": {
      "display_name": "Python 3",
      "language": "python",
      "name": "python3"
    },
    "language_info": {
      "codemirror_mode": {
        "name": "ipython",
        "version": 3
      },
      "file_extension": ".py",
      "mimetype": "text/x-python",
      "name": "python",
      "nbconvert_exporter": "python",
      "pygments_lexer": "ipython3",
      "version": "3.8.5"
    },
    "colab": {
      "name": "data_stats.ipynb",
      "provenance": [],
      "include_colab_link": true
    }
  },
  "cells": [
    {
      "cell_type": "markdown",
      "metadata": {
        "id": "view-in-github",
        "colab_type": "text"
      },
      "source": [
        "<a href=\"https://colab.research.google.com/github/zhestyatsky/MCL-WiC/blob/main/experiments/data_stats.ipynb\" target=\"_parent\"><img src=\"https://colab.research.google.com/assets/colab-badge.svg\" alt=\"Open In Colab\"/></a>"
      ]
    },
    {
      "cell_type": "code",
      "metadata": {
        "colab": {
          "base_uri": "https://localhost:8080/"
        },
        "id": "vzC72mWSfEwH",
        "outputId": "7baa8372-10bc-43fa-8d3b-44f5a5f58967"
      },
      "source": [
        "!git clone https://github.com/zhestyatsky/MCL-WiC.git MCL-WiC\n",
        "\n",
        "import sys\n",
        "sys.path.insert(0, '/content/MCL-WiC')"
      ],
      "execution_count": 1,
      "outputs": [
        {
          "output_type": "stream",
          "text": [
            "Cloning into 'MCL-WiC'...\n",
            "remote: Enumerating objects: 665, done.\u001b[K\n",
            "remote: Counting objects: 100% (45/45), done.\u001b[K\n",
            "remote: Compressing objects: 100% (32/32), done.\u001b[K\n",
            "remote: Total 665 (delta 20), reused 28 (delta 12), pack-reused 620\u001b[K\n",
            "Receiving objects: 100% (665/665), 5.67 MiB | 15.20 MiB/s, done.\n",
            "Resolving deltas: 100% (338/338), done.\n"
          ],
          "name": "stdout"
        }
      ]
    },
    {
      "cell_type": "code",
      "metadata": {
        "colab": {
          "base_uri": "https://localhost:8080/"
        },
        "id": "4-2hfPuhkz24",
        "outputId": "b2fbcdff-86a4-46cb-88f9-ae4363b93022"
      },
      "source": [
        "!pip install --upgrade -r MCL-WiC/requirements.txt"
      ],
      "execution_count": 2,
      "outputs": [
        {
          "output_type": "stream",
          "text": [
            "Collecting torchvision==0.8.2\n",
            "\u001b[?25l  Downloading https://files.pythonhosted.org/packages/94/df/969e69a94cff1c8911acb0688117f95e1915becc1e01c73e7960a2c76ec8/torchvision-0.8.2-cp37-cp37m-manylinux1_x86_64.whl (12.8MB)\n",
            "\u001b[K     |████████████████████████████████| 12.8MB 304kB/s \n",
            "\u001b[?25hCollecting torchtext==0.8.1\n",
            "\u001b[?25l  Downloading https://files.pythonhosted.org/packages/13/80/046f0691b296e755ae884df3ca98033cb9afcaf287603b2b7999e94640b8/torchtext-0.8.1-cp37-cp37m-manylinux1_x86_64.whl (7.0MB)\n",
            "\u001b[K     |████████████████████████████████| 7.0MB 37.0MB/s \n",
            "\u001b[?25hCollecting torch==1.7.1\n",
            "\u001b[?25l  Downloading https://files.pythonhosted.org/packages/90/5d/095ddddc91c8a769a68c791c019c5793f9c4456a688ddd235d6670924ecb/torch-1.7.1-cp37-cp37m-manylinux1_x86_64.whl (776.8MB)\n",
            "\u001b[K     |████████████████████████████████| 776.8MB 24kB/s \n",
            "\u001b[?25hCollecting pytorch-lightning==1.1.6\n",
            "\u001b[?25l  Downloading https://files.pythonhosted.org/packages/c3/3d/fffaf4f83633552249a40d3d366f460f44539bce0592c568d8ee20d782fa/pytorch_lightning-1.1.6-py3-none-any.whl (687kB)\n",
            "\u001b[K     |████████████████████████████████| 696kB 38.1MB/s \n",
            "\u001b[?25hCollecting transformers==4.2.2\n",
            "\u001b[?25l  Downloading https://files.pythonhosted.org/packages/88/b1/41130a228dd656a1a31ba281598a968320283f48d42782845f6ba567f00b/transformers-4.2.2-py3-none-any.whl (1.8MB)\n",
            "\u001b[K     |████████████████████████████████| 1.8MB 28.9MB/s \n",
            "\u001b[?25hCollecting sentencepiece\n",
            "\u001b[?25l  Downloading https://files.pythonhosted.org/packages/f5/99/e0808cb947ba10f575839c43e8fafc9cc44e4a7a2c8f79c60db48220a577/sentencepiece-0.1.95-cp37-cp37m-manylinux2014_x86_64.whl (1.2MB)\n",
            "\u001b[K     |████████████████████████████████| 1.2MB 30.5MB/s \n",
            "\u001b[?25hCollecting scikit-learn\n",
            "\u001b[?25l  Downloading https://files.pythonhosted.org/packages/a8/eb/a48f25c967526b66d5f1fa7a984594f0bf0a5afafa94a8c4dbc317744620/scikit_learn-0.24.2-cp37-cp37m-manylinux2010_x86_64.whl (22.3MB)\n",
            "\u001b[K     |████████████████████████████████| 22.3MB 1.6MB/s \n",
            "\u001b[?25hRequirement already satisfied, skipping upgrade: pillow>=4.1.1 in /usr/local/lib/python3.7/dist-packages (from torchvision==0.8.2->-r MCL-WiC/requirements.txt (line 1)) (7.1.2)\n",
            "Requirement already satisfied, skipping upgrade: numpy in /usr/local/lib/python3.7/dist-packages (from torchvision==0.8.2->-r MCL-WiC/requirements.txt (line 1)) (1.19.5)\n",
            "Requirement already satisfied, skipping upgrade: requests in /usr/local/lib/python3.7/dist-packages (from torchtext==0.8.1->-r MCL-WiC/requirements.txt (line 2)) (2.23.0)\n",
            "Requirement already satisfied, skipping upgrade: tqdm in /usr/local/lib/python3.7/dist-packages (from torchtext==0.8.1->-r MCL-WiC/requirements.txt (line 2)) (4.41.1)\n",
            "Requirement already satisfied, skipping upgrade: typing-extensions in /usr/local/lib/python3.7/dist-packages (from torch==1.7.1->-r MCL-WiC/requirements.txt (line 3)) (3.7.4.3)\n",
            "Collecting PyYAML!=5.4.*,>=5.1\n",
            "\u001b[?25l  Downloading https://files.pythonhosted.org/packages/64/c2/b80047c7ac2478f9501676c988a5411ed5572f35d1beff9cae07d321512c/PyYAML-5.3.1.tar.gz (269kB)\n",
            "\u001b[K     |████████████████████████████████| 276kB 55.6MB/s \n",
            "\u001b[?25hCollecting future>=0.17.1\n",
            "\u001b[?25l  Downloading https://files.pythonhosted.org/packages/45/0b/38b06fd9b92dc2b68d58b75f900e97884c45bedd2ff83203d933cf5851c9/future-0.18.2.tar.gz (829kB)\n",
            "\u001b[K     |████████████████████████████████| 829kB 32.7MB/s \n",
            "\u001b[?25hRequirement already satisfied, skipping upgrade: tensorboard>=2.2.0 in /usr/local/lib/python3.7/dist-packages (from pytorch-lightning==1.1.6->-r MCL-WiC/requirements.txt (line 4)) (2.5.0)\n",
            "Collecting fsspec[http]>=0.8.1\n",
            "\u001b[?25l  Downloading https://files.pythonhosted.org/packages/bc/52/816d1a3a599176057bf29dfacb1f8fadb61d35fbd96cb1bab4aaa7df83c0/fsspec-2021.5.0-py3-none-any.whl (111kB)\n",
            "\u001b[K     |████████████████████████████████| 112kB 45.6MB/s \n",
            "\u001b[?25hRequirement already satisfied, skipping upgrade: importlib-metadata; python_version < \"3.8\" in /usr/local/lib/python3.7/dist-packages (from transformers==4.2.2->-r MCL-WiC/requirements.txt (line 5)) (4.0.1)\n",
            "Requirement already satisfied, skipping upgrade: packaging in /usr/local/lib/python3.7/dist-packages (from transformers==4.2.2->-r MCL-WiC/requirements.txt (line 5)) (20.9)\n",
            "Requirement already satisfied, skipping upgrade: filelock in /usr/local/lib/python3.7/dist-packages (from transformers==4.2.2->-r MCL-WiC/requirements.txt (line 5)) (3.0.12)\n",
            "Collecting sacremoses\n",
            "\u001b[?25l  Downloading https://files.pythonhosted.org/packages/75/ee/67241dc87f266093c533a2d4d3d69438e57d7a90abb216fa076e7d475d4a/sacremoses-0.0.45-py3-none-any.whl (895kB)\n",
            "\u001b[K     |████████████████████████████████| 901kB 29.9MB/s \n",
            "\u001b[?25hCollecting tokenizers==0.9.4\n",
            "\u001b[?25l  Downloading https://files.pythonhosted.org/packages/fb/36/59e4a62254c5fcb43894c6b0e9403ec6f4238cc2422a003ed2e6279a1784/tokenizers-0.9.4-cp37-cp37m-manylinux2010_x86_64.whl (2.9MB)\n",
            "\u001b[K     |████████████████████████████████| 2.9MB 30.8MB/s \n",
            "\u001b[?25hRequirement already satisfied, skipping upgrade: regex!=2019.12.17 in /usr/local/lib/python3.7/dist-packages (from transformers==4.2.2->-r MCL-WiC/requirements.txt (line 5)) (2019.12.20)\n",
            "Collecting threadpoolctl>=2.0.0\n",
            "  Downloading https://files.pythonhosted.org/packages/f7/12/ec3f2e203afa394a149911729357aa48affc59c20e2c1c8297a60f33f133/threadpoolctl-2.1.0-py3-none-any.whl\n",
            "Requirement already satisfied, skipping upgrade: joblib>=0.11 in /usr/local/lib/python3.7/dist-packages (from scikit-learn->-r MCL-WiC/requirements.txt (line 7)) (1.0.1)\n",
            "Requirement already satisfied, skipping upgrade: scipy>=0.19.1 in /usr/local/lib/python3.7/dist-packages (from scikit-learn->-r MCL-WiC/requirements.txt (line 7)) (1.4.1)\n",
            "Requirement already satisfied, skipping upgrade: chardet<4,>=3.0.2 in /usr/local/lib/python3.7/dist-packages (from requests->torchtext==0.8.1->-r MCL-WiC/requirements.txt (line 2)) (3.0.4)\n",
            "Requirement already satisfied, skipping upgrade: urllib3!=1.25.0,!=1.25.1,<1.26,>=1.21.1 in /usr/local/lib/python3.7/dist-packages (from requests->torchtext==0.8.1->-r MCL-WiC/requirements.txt (line 2)) (1.24.3)\n",
            "Requirement already satisfied, skipping upgrade: certifi>=2017.4.17 in /usr/local/lib/python3.7/dist-packages (from requests->torchtext==0.8.1->-r MCL-WiC/requirements.txt (line 2)) (2020.12.5)\n",
            "Requirement already satisfied, skipping upgrade: idna<3,>=2.5 in /usr/local/lib/python3.7/dist-packages (from requests->torchtext==0.8.1->-r MCL-WiC/requirements.txt (line 2)) (2.10)\n",
            "Requirement already satisfied, skipping upgrade: werkzeug>=0.11.15 in /usr/local/lib/python3.7/dist-packages (from tensorboard>=2.2.0->pytorch-lightning==1.1.6->-r MCL-WiC/requirements.txt (line 4)) (1.0.1)\n",
            "Requirement already satisfied, skipping upgrade: setuptools>=41.0.0 in /usr/local/lib/python3.7/dist-packages (from tensorboard>=2.2.0->pytorch-lightning==1.1.6->-r MCL-WiC/requirements.txt (line 4)) (56.1.0)\n",
            "Requirement already satisfied, skipping upgrade: markdown>=2.6.8 in /usr/local/lib/python3.7/dist-packages (from tensorboard>=2.2.0->pytorch-lightning==1.1.6->-r MCL-WiC/requirements.txt (line 4)) (3.3.4)\n",
            "Requirement already satisfied, skipping upgrade: google-auth-oauthlib<0.5,>=0.4.1 in /usr/local/lib/python3.7/dist-packages (from tensorboard>=2.2.0->pytorch-lightning==1.1.6->-r MCL-WiC/requirements.txt (line 4)) (0.4.4)\n",
            "Requirement already satisfied, skipping upgrade: absl-py>=0.4 in /usr/local/lib/python3.7/dist-packages (from tensorboard>=2.2.0->pytorch-lightning==1.1.6->-r MCL-WiC/requirements.txt (line 4)) (0.12.0)\n",
            "Requirement already satisfied, skipping upgrade: protobuf>=3.6.0 in /usr/local/lib/python3.7/dist-packages (from tensorboard>=2.2.0->pytorch-lightning==1.1.6->-r MCL-WiC/requirements.txt (line 4)) (3.12.4)\n",
            "Requirement already satisfied, skipping upgrade: google-auth<2,>=1.6.3 in /usr/local/lib/python3.7/dist-packages (from tensorboard>=2.2.0->pytorch-lightning==1.1.6->-r MCL-WiC/requirements.txt (line 4)) (1.30.0)\n",
            "Requirement already satisfied, skipping upgrade: tensorboard-plugin-wit>=1.6.0 in /usr/local/lib/python3.7/dist-packages (from tensorboard>=2.2.0->pytorch-lightning==1.1.6->-r MCL-WiC/requirements.txt (line 4)) (1.8.0)\n",
            "Requirement already satisfied, skipping upgrade: wheel>=0.26; python_version >= \"3\" in /usr/local/lib/python3.7/dist-packages (from tensorboard>=2.2.0->pytorch-lightning==1.1.6->-r MCL-WiC/requirements.txt (line 4)) (0.36.2)\n",
            "Requirement already satisfied, skipping upgrade: grpcio>=1.24.3 in /usr/local/lib/python3.7/dist-packages (from tensorboard>=2.2.0->pytorch-lightning==1.1.6->-r MCL-WiC/requirements.txt (line 4)) (1.34.1)\n",
            "Requirement already satisfied, skipping upgrade: tensorboard-data-server<0.7.0,>=0.6.0 in /usr/local/lib/python3.7/dist-packages (from tensorboard>=2.2.0->pytorch-lightning==1.1.6->-r MCL-WiC/requirements.txt (line 4)) (0.6.1)\n",
            "Collecting aiohttp; extra == \"http\"\n",
            "\u001b[?25l  Downloading https://files.pythonhosted.org/packages/88/c0/5890b4c8b04a79b7360e8fe4490feb0bb3ab179743f199f0e6220cebd568/aiohttp-3.7.4.post0-cp37-cp37m-manylinux2014_x86_64.whl (1.3MB)\n",
            "\u001b[K     |████████████████████████████████| 1.3MB 27.9MB/s \n",
            "\u001b[?25hRequirement already satisfied, skipping upgrade: zipp>=0.5 in /usr/local/lib/python3.7/dist-packages (from importlib-metadata; python_version < \"3.8\"->transformers==4.2.2->-r MCL-WiC/requirements.txt (line 5)) (3.4.1)\n",
            "Requirement already satisfied, skipping upgrade: pyparsing>=2.0.2 in /usr/local/lib/python3.7/dist-packages (from packaging->transformers==4.2.2->-r MCL-WiC/requirements.txt (line 5)) (2.4.7)\n",
            "Requirement already satisfied, skipping upgrade: click in /usr/local/lib/python3.7/dist-packages (from sacremoses->transformers==4.2.2->-r MCL-WiC/requirements.txt (line 5)) (7.1.2)\n",
            "Requirement already satisfied, skipping upgrade: six in /usr/local/lib/python3.7/dist-packages (from sacremoses->transformers==4.2.2->-r MCL-WiC/requirements.txt (line 5)) (1.15.0)\n",
            "Requirement already satisfied, skipping upgrade: requests-oauthlib>=0.7.0 in /usr/local/lib/python3.7/dist-packages (from google-auth-oauthlib<0.5,>=0.4.1->tensorboard>=2.2.0->pytorch-lightning==1.1.6->-r MCL-WiC/requirements.txt (line 4)) (1.3.0)\n",
            "Requirement already satisfied, skipping upgrade: pyasn1-modules>=0.2.1 in /usr/local/lib/python3.7/dist-packages (from google-auth<2,>=1.6.3->tensorboard>=2.2.0->pytorch-lightning==1.1.6->-r MCL-WiC/requirements.txt (line 4)) (0.2.8)\n",
            "Requirement already satisfied, skipping upgrade: rsa<5,>=3.1.4; python_version >= \"3.6\" in /usr/local/lib/python3.7/dist-packages (from google-auth<2,>=1.6.3->tensorboard>=2.2.0->pytorch-lightning==1.1.6->-r MCL-WiC/requirements.txt (line 4)) (4.7.2)\n",
            "Requirement already satisfied, skipping upgrade: cachetools<5.0,>=2.0.0 in /usr/local/lib/python3.7/dist-packages (from google-auth<2,>=1.6.3->tensorboard>=2.2.0->pytorch-lightning==1.1.6->-r MCL-WiC/requirements.txt (line 4)) (4.2.2)\n",
            "Collecting multidict<7.0,>=4.5\n",
            "\u001b[?25l  Downloading https://files.pythonhosted.org/packages/7c/a6/4123b8165acbe773d1a8dc8e3f0d1edea16d29f7de018eda769abb56bd30/multidict-5.1.0-cp37-cp37m-manylinux2014_x86_64.whl (142kB)\n",
            "\u001b[K     |████████████████████████████████| 143kB 58.0MB/s \n",
            "\u001b[?25hCollecting yarl<2.0,>=1.0\n",
            "\u001b[?25l  Downloading https://files.pythonhosted.org/packages/f1/62/046834c5fc998c88ab2ef722f5d42122230a632212c8afa76418324f53ff/yarl-1.6.3-cp37-cp37m-manylinux2014_x86_64.whl (294kB)\n",
            "\u001b[K     |████████████████████████████████| 296kB 59.4MB/s \n",
            "\u001b[?25hCollecting async-timeout<4.0,>=3.0\n",
            "  Downloading https://files.pythonhosted.org/packages/e1/1e/5a4441be21b0726c4464f3f23c8b19628372f606755a9d2e46c187e65ec4/async_timeout-3.0.1-py3-none-any.whl\n",
            "Requirement already satisfied, skipping upgrade: attrs>=17.3.0 in /usr/local/lib/python3.7/dist-packages (from aiohttp; extra == \"http\"->fsspec[http]>=0.8.1->pytorch-lightning==1.1.6->-r MCL-WiC/requirements.txt (line 4)) (21.2.0)\n",
            "Requirement already satisfied, skipping upgrade: oauthlib>=3.0.0 in /usr/local/lib/python3.7/dist-packages (from requests-oauthlib>=0.7.0->google-auth-oauthlib<0.5,>=0.4.1->tensorboard>=2.2.0->pytorch-lightning==1.1.6->-r MCL-WiC/requirements.txt (line 4)) (3.1.0)\n",
            "Requirement already satisfied, skipping upgrade: pyasn1<0.5.0,>=0.4.6 in /usr/local/lib/python3.7/dist-packages (from pyasn1-modules>=0.2.1->google-auth<2,>=1.6.3->tensorboard>=2.2.0->pytorch-lightning==1.1.6->-r MCL-WiC/requirements.txt (line 4)) (0.4.8)\n",
            "Building wheels for collected packages: PyYAML, future\n",
            "  Building wheel for PyYAML (setup.py) ... \u001b[?25l\u001b[?25hdone\n",
            "  Created wheel for PyYAML: filename=PyYAML-5.3.1-cp37-cp37m-linux_x86_64.whl size=44620 sha256=310a2c7c217144adfbfd08165add6aae4f4689bf55c088980ff7446ff3c62c00\n",
            "  Stored in directory: /root/.cache/pip/wheels/a7/c1/ea/cf5bd31012e735dc1dfea3131a2d5eae7978b251083d6247bd\n",
            "  Building wheel for future (setup.py) ... \u001b[?25l\u001b[?25hdone\n",
            "  Created wheel for future: filename=future-0.18.2-cp37-none-any.whl size=491058 sha256=7036811f39579293fec8b63697d66793b262ddf4835942f9ad406bc5630360cf\n",
            "  Stored in directory: /root/.cache/pip/wheels/8b/99/a0/81daf51dcd359a9377b110a8a886b3895921802d2fc1b2397e\n",
            "Successfully built PyYAML future\n",
            "Installing collected packages: torch, torchvision, torchtext, PyYAML, future, multidict, yarl, async-timeout, aiohttp, fsspec, pytorch-lightning, sacremoses, tokenizers, transformers, sentencepiece, threadpoolctl, scikit-learn\n",
            "  Found existing installation: torch 1.8.1+cu101\n",
            "    Uninstalling torch-1.8.1+cu101:\n",
            "      Successfully uninstalled torch-1.8.1+cu101\n",
            "  Found existing installation: torchvision 0.9.1+cu101\n",
            "    Uninstalling torchvision-0.9.1+cu101:\n",
            "      Successfully uninstalled torchvision-0.9.1+cu101\n",
            "  Found existing installation: torchtext 0.9.1\n",
            "    Uninstalling torchtext-0.9.1:\n",
            "      Successfully uninstalled torchtext-0.9.1\n",
            "  Found existing installation: PyYAML 3.13\n",
            "    Uninstalling PyYAML-3.13:\n",
            "      Successfully uninstalled PyYAML-3.13\n",
            "  Found existing installation: future 0.16.0\n",
            "    Uninstalling future-0.16.0:\n",
            "      Successfully uninstalled future-0.16.0\n",
            "  Found existing installation: scikit-learn 0.22.2.post1\n",
            "    Uninstalling scikit-learn-0.22.2.post1:\n",
            "      Successfully uninstalled scikit-learn-0.22.2.post1\n",
            "Successfully installed PyYAML-5.3.1 aiohttp-3.7.4.post0 async-timeout-3.0.1 fsspec-2021.5.0 future-0.18.2 multidict-5.1.0 pytorch-lightning-1.1.6 sacremoses-0.0.45 scikit-learn-0.24.2 sentencepiece-0.1.95 threadpoolctl-2.1.0 tokenizers-0.9.4 torch-1.7.1 torchtext-0.8.1 torchvision-0.8.2 transformers-4.2.2 yarl-1.6.3\n"
          ],
          "name": "stdout"
        }
      ]
    },
    {
      "cell_type": "code",
      "metadata": {
        "colab": {
          "base_uri": "https://localhost:8080/"
        },
        "id": "Rt1rwUF1fN4f",
        "outputId": "419e0c6d-369d-4d60-9557-bed54a63a926"
      },
      "source": [
        "import src.data.reading as reading\n",
        "\n",
        "wic_train = reading.read_wic_train()\n",
        "wic_dev = reading.read_wic_dev()\n",
        "wic_test = reading.read_wic_test()\n",
        "\n",
        "print(wic_train.shape, wic_dev.shape, wic_test.shape)"
      ],
      "execution_count": 3,
      "outputs": [
        {
          "output_type": "stream",
          "text": [
            "(8000, 10) (1000, 10) (1000, 10)\n"
          ],
          "name": "stdout"
        }
      ]
    },
    {
      "cell_type": "code",
      "metadata": {
        "colab": {
          "base_uri": "https://localhost:8080/",
          "height": 204
        },
        "id": "V2QixZMctEhR",
        "outputId": "7e034279-6260-4583-acfb-0c10145a94d8"
      },
      "source": [
        "wic_train.head()"
      ],
      "execution_count": 4,
      "outputs": [
        {
          "output_type": "execute_result",
          "data": {
            "text/html": [
              "<div>\n",
              "<style scoped>\n",
              "    .dataframe tbody tr th:only-of-type {\n",
              "        vertical-align: middle;\n",
              "    }\n",
              "\n",
              "    .dataframe tbody tr th {\n",
              "        vertical-align: top;\n",
              "    }\n",
              "\n",
              "    .dataframe thead th {\n",
              "        text-align: right;\n",
              "    }\n",
              "</style>\n",
              "<table border=\"1\" class=\"dataframe\">\n",
              "  <thead>\n",
              "    <tr style=\"text-align: right;\">\n",
              "      <th></th>\n",
              "      <th>id</th>\n",
              "      <th>lemma</th>\n",
              "      <th>pos</th>\n",
              "      <th>sentence1</th>\n",
              "      <th>sentence2</th>\n",
              "      <th>start1</th>\n",
              "      <th>end1</th>\n",
              "      <th>start2</th>\n",
              "      <th>end2</th>\n",
              "      <th>tag</th>\n",
              "    </tr>\n",
              "  </thead>\n",
              "  <tbody>\n",
              "    <tr>\n",
              "      <th>0</th>\n",
              "      <td>training.en-en.0</td>\n",
              "      <td>play</td>\n",
              "      <td>NOUN</td>\n",
              "      <td>In that context of coordination and integratio...</td>\n",
              "      <td>A musical play on the same subject was also st...</td>\n",
              "      <td>69</td>\n",
              "      <td>73</td>\n",
              "      <td>10</td>\n",
              "      <td>14</td>\n",
              "      <td>0</td>\n",
              "    </tr>\n",
              "    <tr>\n",
              "      <th>1</th>\n",
              "      <td>training.en-en.1</td>\n",
              "      <td>play</td>\n",
              "      <td>NOUN</td>\n",
              "      <td>In that context of coordination and integratio...</td>\n",
              "      <td>In schools, when water is needed, it is girls ...</td>\n",
              "      <td>69</td>\n",
              "      <td>73</td>\n",
              "      <td>112</td>\n",
              "      <td>116</td>\n",
              "      <td>0</td>\n",
              "    </tr>\n",
              "    <tr>\n",
              "      <th>2</th>\n",
              "      <td>training.en-en.2</td>\n",
              "      <td>esteem</td>\n",
              "      <td>NOUN</td>\n",
              "      <td>We would also like to convey our esteem and co...</td>\n",
              "      <td>Father Lini said that, because of that, the Un...</td>\n",
              "      <td>33</td>\n",
              "      <td>39</td>\n",
              "      <td>106</td>\n",
              "      <td>112</td>\n",
              "      <td>1</td>\n",
              "    </tr>\n",
              "    <tr>\n",
              "      <th>3</th>\n",
              "      <td>training.en-en.3</td>\n",
              "      <td>esteem</td>\n",
              "      <td>NOUN</td>\n",
              "      <td>We would also like to convey our esteem and co...</td>\n",
              "      <td>This attests to the esteem and trust enjoyed b...</td>\n",
              "      <td>33</td>\n",
              "      <td>39</td>\n",
              "      <td>20</td>\n",
              "      <td>26</td>\n",
              "      <td>1</td>\n",
              "    </tr>\n",
              "    <tr>\n",
              "      <th>4</th>\n",
              "      <td>training.en-en.4</td>\n",
              "      <td>holder</td>\n",
              "      <td>NOUN</td>\n",
              "      <td>This growth is the direct result of the increa...</td>\n",
              "      <td>A person may be either the holder of an option...</td>\n",
              "      <td>74</td>\n",
              "      <td>81</td>\n",
              "      <td>27</td>\n",
              "      <td>33</td>\n",
              "      <td>1</td>\n",
              "    </tr>\n",
              "  </tbody>\n",
              "</table>\n",
              "</div>"
            ],
            "text/plain": [
              "                 id   lemma   pos  ... start2 end2 tag\n",
              "0  training.en-en.0    play  NOUN  ...     10   14   0\n",
              "1  training.en-en.1    play  NOUN  ...    112  116   0\n",
              "2  training.en-en.2  esteem  NOUN  ...    106  112   1\n",
              "3  training.en-en.3  esteem  NOUN  ...     20   26   1\n",
              "4  training.en-en.4  holder  NOUN  ...     27   33   1\n",
              "\n",
              "[5 rows x 10 columns]"
            ]
          },
          "metadata": {
            "tags": []
          },
          "execution_count": 4
        }
      ]
    },
    {
      "cell_type": "code",
      "metadata": {
        "colab": {
          "base_uri": "https://localhost:8080/"
        },
        "id": "VdQERRW7rxzX",
        "outputId": "0d2a59da-ac44-42da-9f9d-6aba574e4e9c"
      },
      "source": [
        "wic_real_train, wic_real_dev, _ = reading.get_train_val_test_df(use_default_datasets=False)\n",
        "print(wic_real_train.shape, wic_real_dev.shape)"
      ],
      "execution_count": 45,
      "outputs": [
        {
          "output_type": "stream",
          "text": [
            "(14680, 10) (386, 10)\n"
          ],
          "name": "stdout"
        }
      ]
    },
    {
      "cell_type": "markdown",
      "metadata": {
        "id": "N4An-O7HesK0"
      },
      "source": [
        "### Посмотрим на распределение слов по частям речи"
      ]
    },
    {
      "cell_type": "code",
      "metadata": {
        "id": "Oy5ZJYFQspUX"
      },
      "source": [
        "import matplotlib.pyplot as plt"
      ],
      "execution_count": 49,
      "outputs": []
    },
    {
      "cell_type": "code",
      "metadata": {
        "colab": {
          "base_uri": "https://localhost:8080/",
          "height": 318
        },
        "id": "PiBWJJ8Umx4r",
        "outputId": "2c955e78-49c9-4d93-d60b-ecc8104bcfee"
      },
      "source": [
        "plt.title('Train, данные соревнования')\n",
        "wic_train['pos'].value_counts(normalize=True).plot(kind='bar')"
      ],
      "execution_count": 52,
      "outputs": [
        {
          "output_type": "execute_result",
          "data": {
            "text/plain": [
              "<matplotlib.axes._subplots.AxesSubplot at 0x7fd72b917290>"
            ]
          },
          "metadata": {
            "tags": []
          },
          "execution_count": 52
        },
        {
          "output_type": "display_data",
          "data": {
            "image/png": "[encoded data removed]",
            "text/plain": [
              "<Figure size 432x288 with 1 Axes>"
            ]
          },
          "metadata": {
            "tags": [],
            "needs_background": "light"
          }
        }
      ]
    },
    {
      "cell_type": "code",
      "metadata": {
        "scrolled": true,
        "colab": {
          "base_uri": "https://localhost:8080/",
          "height": 318
        },
        "id": "SEgABMOdesK1",
        "outputId": "982a212c-cfe7-486c-d379-98cbde766468"
      },
      "source": [
        "plt.title('Dev, данные соревнования')\n",
        "wic_dev['pos'].value_counts(normalize=True).plot(kind='bar')"
      ],
      "execution_count": 53,
      "outputs": [
        {
          "output_type": "execute_result",
          "data": {
            "text/plain": [
              "<matplotlib.axes._subplots.AxesSubplot at 0x7fd72b88fdd0>"
            ]
          },
          "metadata": {
            "tags": []
          },
          "execution_count": 53
        },
        {
          "output_type": "display_data",
          "data": {
            "image/png": "[encoded data removed]",
            "text/plain": [
              "<Figure size 432x288 with 1 Axes>"
            ]
          },
          "metadata": {
            "tags": [],
            "needs_background": "light"
          }
        }
      ]
    },
    {
      "cell_type": "code",
      "metadata": {
        "colab": {
          "base_uri": "https://localhost:8080/",
          "height": 318
        },
        "id": "TEdfoMU-ngBr",
        "outputId": "21942c00-dcef-4495-acce-288388cf99f2"
      },
      "source": [
        "plt.title('Test')\n",
        "wic_test['pos'].value_counts(normalize=True).plot(kind='bar')"
      ],
      "execution_count": 63,
      "outputs": [
        {
          "output_type": "execute_result",
          "data": {
            "text/plain": [
              "<matplotlib.axes._subplots.AxesSubplot at 0x7fd72b452190>"
            ]
          },
          "metadata": {
            "tags": []
          },
          "execution_count": 63
        },
        {
          "output_type": "display_data",
          "data": {
            "image/png": "[encoded data removed]",
            "text/plain": [
              "<Figure size 432x288 with 1 Axes>"
            ]
          },
          "metadata": {
            "tags": [],
            "needs_background": "light"
          }
        }
      ]
    },
    {
      "cell_type": "code",
      "metadata": {
        "colab": {
          "base_uri": "https://localhost:8080/",
          "height": 318
        },
        "id": "osf6rrZGsAvg",
        "outputId": "5c9491ab-7b6d-462c-f9b7-b14db081220e"
      },
      "source": [
        "plt.title('Train')\n",
        "wic_real_train['pos'].value_counts(normalize=True).plot(kind='bar')"
      ],
      "execution_count": 64,
      "outputs": [
        {
          "output_type": "execute_result",
          "data": {
            "text/plain": [
              "<matplotlib.axes._subplots.AxesSubplot at 0x7fd72b3bc490>"
            ]
          },
          "metadata": {
            "tags": []
          },
          "execution_count": 64
        },
        {
          "output_type": "display_data",
          "data": {
            "image/png": "[encoded data removed]",
            "text/plain": [
              "<Figure size 432x288 with 1 Axes>"
            ]
          },
          "metadata": {
            "tags": [],
            "needs_background": "light"
          }
        }
      ]
    },
    {
      "cell_type": "code",
      "metadata": {
        "colab": {
          "base_uri": "https://localhost:8080/",
          "height": 318
        },
        "id": "CS2kkVUXsErr",
        "outputId": "b4e1eaa0-4dc2-47da-a9c8-dea1934e2ec4"
      },
      "source": [
        "plt.title('Validation')\n",
        "wic_real_dev['pos'].value_counts(normalize=True).plot(kind='bar')"
      ],
      "execution_count": 65,
      "outputs": [
        {
          "output_type": "execute_result",
          "data": {
            "text/plain": [
              "<matplotlib.axes._subplots.AxesSubplot at 0x7fd72b39f990>"
            ]
          },
          "metadata": {
            "tags": []
          },
          "execution_count": 65
        },
        {
          "output_type": "display_data",
          "data": {
            "image/png": "[encoded data removed]",
            "text/plain": [
              "<Figure size 432x288 with 1 Axes>"
            ]
          },
          "metadata": {
            "tags": [],
            "needs_background": "light"
          }
        }
      ]
    },
    {
      "cell_type": "markdown",
      "metadata": {
        "id": "xo4GFp3cesK1"
      },
      "source": [
        "### Каждое слово встречается в 2, 4 или 6 парах предложений"
      ]
    },
    {
      "cell_type": "code",
      "metadata": {
        "colab": {
          "base_uri": "https://localhost:8080/"
        },
        "id": "CaN8fs17nlOl",
        "outputId": "0c768769-88d4-4af7-9e42-b033d6081b74"
      },
      "source": [
        "wic_train['lemma'].value_counts().value_counts(normalize=True)"
      ],
      "execution_count": 72,
      "outputs": [
        {
          "output_type": "execute_result",
          "data": {
            "text/plain": [
              "2    0.928341\n",
              "4    0.069780\n",
              "6    0.001879\n",
              "Name: lemma, dtype: float64"
            ]
          },
          "metadata": {
            "tags": []
          },
          "execution_count": 72
        }
      ]
    },
    {
      "cell_type": "code",
      "metadata": {
        "colab": {
          "base_uri": "https://localhost:8080/"
        },
        "id": "Z16rQRlknsmH",
        "outputId": "7454a122-523a-4fe4-a2fd-b956d3e52d67"
      },
      "source": [
        "wic_dev['lemma'].value_counts().value_counts()"
      ],
      "execution_count": 9,
      "outputs": [
        {
          "output_type": "execute_result",
          "data": {
            "text/plain": [
              "2    486\n",
              "4      7\n",
              "Name: lemma, dtype: int64"
            ]
          },
          "metadata": {
            "tags": []
          },
          "execution_count": 9
        }
      ]
    },
    {
      "cell_type": "code",
      "metadata": {
        "colab": {
          "base_uri": "https://localhost:8080/"
        },
        "id": "dQWnkbB-nwXS",
        "outputId": "dc8e01fe-13b8-416a-e738-f570fd9e2b71"
      },
      "source": [
        "wic_test['lemma'].value_counts().value_counts(normalize=True)"
      ],
      "execution_count": 71,
      "outputs": [
        {
          "output_type": "execute_result",
          "data": {
            "text/plain": [
              "2    0.977505\n",
              "4    0.022495\n",
              "Name: lemma, dtype: float64"
            ]
          },
          "metadata": {
            "tags": []
          },
          "execution_count": 71
        }
      ]
    },
    {
      "cell_type": "code",
      "metadata": {
        "colab": {
          "base_uri": "https://localhost:8080/"
        },
        "id": "oEgXoOH6vXz4",
        "outputId": "1d15549a-c4bd-4417-ce93-7943e4abc3b6"
      },
      "source": [
        "wic_real_train['lemma'].value_counts().value_counts(normalize=True)"
      ],
      "execution_count": 73,
      "outputs": [
        {
          "output_type": "execute_result",
          "data": {
            "text/plain": [
              "2     0.642721\n",
              "1     0.098618\n",
              "3     0.087141\n",
              "4     0.060999\n",
              "5     0.028905\n",
              "6     0.018704\n",
              "7     0.010840\n",
              "8     0.010627\n",
              "9     0.006376\n",
              "11    0.004463\n",
              "10    0.004038\n",
              "12    0.004038\n",
              "13    0.002338\n",
              "16    0.001913\n",
              "15    0.001275\n",
              "17    0.001275\n",
              "14    0.001275\n",
              "18    0.001063\n",
              "33    0.000850\n",
              "19    0.000850\n",
              "44    0.000850\n",
              "20    0.000638\n",
              "34    0.000638\n",
              "24    0.000638\n",
              "21    0.000638\n",
              "36    0.000638\n",
              "39    0.000425\n",
              "46    0.000425\n",
              "42    0.000425\n",
              "25    0.000425\n",
              "31    0.000425\n",
              "28    0.000425\n",
              "57    0.000425\n",
              "55    0.000425\n",
              "43    0.000425\n",
              "27    0.000425\n",
              "30    0.000425\n",
              "40    0.000213\n",
              "32    0.000213\n",
              "63    0.000213\n",
              "60    0.000213\n",
              "29    0.000213\n",
              "37    0.000213\n",
              "41    0.000213\n",
              "49    0.000213\n",
              "85    0.000213\n",
              "22    0.000213\n",
              "26    0.000213\n",
              "50    0.000213\n",
              "23    0.000213\n",
              "61    0.000213\n",
              "Name: lemma, dtype: float64"
            ]
          },
          "metadata": {
            "tags": []
          },
          "execution_count": 73
        }
      ]
    },
    {
      "cell_type": "code",
      "metadata": {
        "colab": {
          "base_uri": "https://localhost:8080/"
        },
        "id": "prrgeau6wAIj",
        "outputId": "48b71920-1643-489d-c12b-1c52514b8dfd"
      },
      "source": [
        "wic_real_dev['lemma'].value_counts().value_counts()"
      ],
      "execution_count": 69,
      "outputs": [
        {
          "output_type": "execute_result",
          "data": {
            "text/plain": [
              "2     79\n",
              "1     15\n",
              "3      9\n",
              "4      5\n",
              "5      3\n",
              "6      2\n",
              "37     1\n",
              "23     1\n",
              "20     1\n",
              "16     1\n",
              "15     1\n",
              "11     1\n",
              "10     1\n",
              "7      1\n",
              "Name: lemma, dtype: int64"
            ]
          },
          "metadata": {
            "tags": []
          },
          "execution_count": 69
        }
      ]
    },
    {
      "cell_type": "markdown",
      "metadata": {
        "id": "Vx0kF_RresK3"
      },
      "source": [
        "### Тэги True и False втречаются одинаково часто"
      ]
    },
    {
      "cell_type": "code",
      "metadata": {
        "colab": {
          "base_uri": "https://localhost:8080/"
        },
        "id": "4BSddYhpesK3",
        "outputId": "e6f13530-0139-44b0-a6f9-f8a1026998c2"
      },
      "source": [
        "wic_train['tag'].value_counts()"
      ],
      "execution_count": 11,
      "outputs": [
        {
          "output_type": "execute_result",
          "data": {
            "text/plain": [
              "1    4000\n",
              "0    4000\n",
              "Name: tag, dtype: int64"
            ]
          },
          "metadata": {
            "tags": []
          },
          "execution_count": 11
        }
      ]
    },
    {
      "cell_type": "code",
      "metadata": {
        "colab": {
          "base_uri": "https://localhost:8080/"
        },
        "id": "fkT0dgbTn7_n",
        "outputId": "c601aca9-2da1-4be1-d2ac-0bf28542268e"
      },
      "source": [
        "wic_dev['tag'].value_counts()"
      ],
      "execution_count": 12,
      "outputs": [
        {
          "output_type": "execute_result",
          "data": {
            "text/plain": [
              "1    500\n",
              "0    500\n",
              "Name: tag, dtype: int64"
            ]
          },
          "metadata": {
            "tags": []
          },
          "execution_count": 12
        }
      ]
    },
    {
      "cell_type": "code",
      "metadata": {
        "colab": {
          "base_uri": "https://localhost:8080/"
        },
        "id": "R5hflFGzn-03",
        "outputId": "2c28397e-f1d2-4639-f423-e20cc6fca98f"
      },
      "source": [
        "wic_test['tag'].value_counts()"
      ],
      "execution_count": 13,
      "outputs": [
        {
          "output_type": "execute_result",
          "data": {
            "text/plain": [
              "1    500\n",
              "0    500\n",
              "Name: tag, dtype: int64"
            ]
          },
          "metadata": {
            "tags": []
          },
          "execution_count": 13
        }
      ]
    },
    {
      "cell_type": "code",
      "metadata": {
        "colab": {
          "base_uri": "https://localhost:8080/"
        },
        "id": "4R1zM_VAyOf3",
        "outputId": "a5a4fa31-e661-4518-cf78-6b7b84446d58"
      },
      "source": [
        "wic_real_train['tag'].value_counts()"
      ],
      "execution_count": 74,
      "outputs": [
        {
          "output_type": "execute_result",
          "data": {
            "text/plain": [
              "1    7342\n",
              "0    7338\n",
              "Name: tag, dtype: int64"
            ]
          },
          "metadata": {
            "tags": []
          },
          "execution_count": 74
        }
      ]
    },
    {
      "cell_type": "code",
      "metadata": {
        "colab": {
          "base_uri": "https://localhost:8080/"
        },
        "id": "sde_Tj32yRoa",
        "outputId": "2028a282-3eb3-4426-edec-690ac8b62f33"
      },
      "source": [
        "wic_real_dev['tag'].value_counts()"
      ],
      "execution_count": 75,
      "outputs": [
        {
          "output_type": "execute_result",
          "data": {
            "text/plain": [
              "0    195\n",
              "1    191\n",
              "Name: tag, dtype: int64"
            ]
          },
          "metadata": {
            "tags": []
          },
          "execution_count": 75
        }
      ]
    },
    {
      "cell_type": "code",
      "metadata": {
        "colab": {
          "base_uri": "https://localhost:8080/"
        },
        "id": "RagYLLwDyV9R",
        "outputId": "d97f4ad0-3023-4308-aaf4-2868a34acc47"
      },
      "source": [
        "wic_test['tag'].value_counts()"
      ],
      "execution_count": 76,
      "outputs": [
        {
          "output_type": "execute_result",
          "data": {
            "text/plain": [
              "1    500\n",
              "0    500\n",
              "Name: tag, dtype: int64"
            ]
          },
          "metadata": {
            "tags": []
          },
          "execution_count": 76
        }
      ]
    },
    {
      "cell_type": "markdown",
      "metadata": {
        "id": "WUsIM1AiesK4"
      },
      "source": [
        "### Посмотрим, как часто слова употребляются в одинаковых значениях и как часто в разных, а также в каком соотношении"
      ]
    },
    {
      "cell_type": "code",
      "metadata": {
        "id": "CKbIeR2besK4"
      },
      "source": [
        "import pandas as pd\n",
        "\n",
        "\n",
        "def get_lemma_tag_stats(df):\n",
        "  lemma_tag_stats_df = pd.DataFrame(columns=['lemma', 'true_tag_count', 'false_tag_count'])\n",
        "\n",
        "  for lemma, tag_df in df[['lemma', 'tag']].value_counts().reset_index(name='tag_count').groupby('lemma'):\n",
        "      tag_stats = {\n",
        "          'lemma': lemma,\n",
        "          'true_tag_count': 0,\n",
        "          'false_tag_count': 0\n",
        "      }\n",
        "\n",
        "      for _, (_, tag, tag_count) in tag_df.iterrows():\n",
        "          if tag == 1:\n",
        "              tag_stats['true_tag_count'] = tag_count\n",
        "          elif tag == 0:\n",
        "              tag_stats['false_tag_count'] = tag_count\n",
        "          else:\n",
        "              raise RuntimeError(f'Unknown tag: {tag}')\n",
        "\n",
        "      lemma_tag_stats_df = lemma_tag_stats_df.append(tag_stats, ignore_index=True)\n",
        "  return lemma_tag_stats_df"
      ],
      "execution_count": 14,
      "outputs": []
    },
    {
      "cell_type": "code",
      "metadata": {
        "id": "kdehS_ICqZRP"
      },
      "source": [
        "wic_train_lemma_tag_stats = get_lemma_tag_stats(wic_train)\n",
        "wic_dev_lemma_tag_stats = get_lemma_tag_stats(wic_dev)\n",
        "wic_test_lemma_tag_stats = get_lemma_tag_stats(wic_test)"
      ],
      "execution_count": 15,
      "outputs": []
    },
    {
      "cell_type": "code",
      "metadata": {
        "id": "Q9oOLhVvzAks"
      },
      "source": [
        "wic_real_train_lemma_tag_stats = get_lemma_tag_stats(wic_real_train)\n",
        "wic_real_dev_lemma_tag_stats = get_lemma_tag_stats(wic_real_dev)"
      ],
      "execution_count": 77,
      "outputs": []
    },
    {
      "cell_type": "code",
      "metadata": {
        "colab": {
          "base_uri": "https://localhost:8080/",
          "height": 314
        },
        "id": "gQlpM9TMqNev",
        "outputId": "acec13a7-7bcb-4fe7-d7c8-caf201ca3adc"
      },
      "source": [
        "wic_train_lemma_tag_stats[['true_tag_count', 'false_tag_count']].value_counts(normalize=True).plot(kind='bar')"
      ],
      "execution_count": 16,
      "outputs": [
        {
          "output_type": "execute_result",
          "data": {
            "text/plain": [
              "<matplotlib.axes._subplots.AxesSubplot at 0x7fd730d73410>"
            ]
          },
          "metadata": {
            "tags": []
          },
          "execution_count": 16
        },
        {
          "output_type": "display_data",
          "data": {
            "image/png": "[encoded data removed]",
            "text/plain": [
              "<Figure size 432x288 with 1 Axes>"
            ]
          },
          "metadata": {
            "tags": [],
            "needs_background": "light"
          }
        }
      ]
    },
    {
      "cell_type": "code",
      "metadata": {
        "colab": {
          "base_uri": "https://localhost:8080/",
          "height": 314
        },
        "id": "4FqJVHppqy_b",
        "outputId": "5f35e57f-09e2-42e9-e4cd-d4e61d83ed5b"
      },
      "source": [
        "wic_dev_lemma_tag_stats[['true_tag_count', 'false_tag_count']].value_counts(normalize=True).plot(kind='bar')"
      ],
      "execution_count": 17,
      "outputs": [
        {
          "output_type": "execute_result",
          "data": {
            "text/plain": [
              "<matplotlib.axes._subplots.AxesSubplot at 0x7fd730c55310>"
            ]
          },
          "metadata": {
            "tags": []
          },
          "execution_count": 17
        },
        {
          "output_type": "display_data",
          "data": {
            "image/png": "[encoded data removed]",
            "text/plain": [
              "<Figure size 432x288 with 1 Axes>"
            ]
          },
          "metadata": {
            "tags": [],
            "needs_background": "light"
          }
        }
      ]
    },
    {
      "cell_type": "code",
      "metadata": {
        "colab": {
          "base_uri": "https://localhost:8080/",
          "height": 330
        },
        "id": "gzT-_4kIq1ur",
        "outputId": "f7339e5a-94a0-49e7-d953-5befaf4681c1"
      },
      "source": [
        "plt.title('Test')\n",
        "wic_test_lemma_tag_stats[['true_tag_count', 'false_tag_count']].value_counts(normalize=True).plot(kind='bar')"
      ],
      "execution_count": 87,
      "outputs": [
        {
          "output_type": "execute_result",
          "data": {
            "text/plain": [
              "<matplotlib.axes._subplots.AxesSubplot at 0x7fd71ba146d0>"
            ]
          },
          "metadata": {
            "tags": []
          },
          "execution_count": 87
        },
        {
          "output_type": "display_data",
          "data": {
            "image/png": "[encoded data removed]",
            "text/plain": [
              "<Figure size 432x288 with 1 Axes>"
            ]
          },
          "metadata": {
            "tags": [],
            "needs_background": "light"
          }
        }
      ]
    },
    {
      "cell_type": "code",
      "metadata": {
        "colab": {
          "base_uri": "https://localhost:8080/",
          "height": 330
        },
        "id": "nQHpvFeDzO6a",
        "outputId": "6af1fad0-0f09-470d-b9a0-1d99e7eb7323"
      },
      "source": [
        "plt.title('Train')\n",
        "wic_real_train_lemma_tag_stats[['true_tag_count', 'false_tag_count']].value_counts(normalize=True).nlargest(10).plot(kind='bar')"
      ],
      "execution_count": 93,
      "outputs": [
        {
          "output_type": "execute_result",
          "data": {
            "text/plain": [
              "<matplotlib.axes._subplots.AxesSubplot at 0x7fd71b7bd190>"
            ]
          },
          "metadata": {
            "tags": []
          },
          "execution_count": 93
        },
        {
          "output_type": "display_data",
          "data": {
            "image/png": "[encoded data removed]",
            "text/plain": [
              "<Figure size 432x288 with 1 Axes>"
            ]
          },
          "metadata": {
            "tags": [],
            "needs_background": "light"
          }
        }
      ]
    },
    {
      "cell_type": "code",
      "metadata": {
        "colab": {
          "base_uri": "https://localhost:8080/",
          "height": 330
        },
        "id": "RpGSYENszTPp",
        "outputId": "208963ab-a828-43a1-b792-bae96b25e554"
      },
      "source": [
        "plt.title('Validation')\n",
        "wic_real_dev_lemma_tag_stats[['true_tag_count', 'false_tag_count']].value_counts(normalize=True).nlargest(10).plot(kind='bar')"
      ],
      "execution_count": 94,
      "outputs": [
        {
          "output_type": "execute_result",
          "data": {
            "text/plain": [
              "<matplotlib.axes._subplots.AxesSubplot at 0x7fd71b74e650>"
            ]
          },
          "metadata": {
            "tags": []
          },
          "execution_count": 94
        },
        {
          "output_type": "display_data",
          "data": {
            "image/png": "[encoded data removed]",
            "text/plain": [
              "<Figure size 432x288 with 1 Axes>"
            ]
          },
          "metadata": {
            "tags": [],
            "needs_background": "light"
          }
        }
      ]
    },
    {
      "cell_type": "markdown",
      "metadata": {
        "id": "2mtJFrvHesK5"
      },
      "source": [
        "### Посмотрим, в каких частях речи встречаются слова, и в каком соотношении"
      ]
    },
    {
      "cell_type": "code",
      "metadata": {
        "id": "Ckab3GswesK5"
      },
      "source": [
        "def get_lemma_pos_stats(df):\n",
        "  lemma_pos_stats_df = pd.DataFrame(columns=['lemma', 'noun_count', 'verb_count', 'adj_count', 'adv_count'])\n",
        "\n",
        "  for lemma, pos_df in df[['lemma', 'pos']].value_counts().reset_index(name='pos_count').groupby('lemma'):\n",
        "      pos_stats = {\n",
        "          'lemma': lemma,\n",
        "          'noun_count': 0,\n",
        "          'verb_count': 0,\n",
        "          'adj_count': 0,\n",
        "          'adv_count': 0\n",
        "      }\n",
        "\n",
        "      for _, (_, pos, pos_count) in pos_df.iterrows():\n",
        "          if pos == 'NOUN':\n",
        "              pos_stats['noun_count'] = pos_count\n",
        "          elif pos == 'VERB':\n",
        "              pos_stats['verb_count'] = pos_count\n",
        "          elif pos == 'ADJ':\n",
        "              pos_stats['adj_count'] = pos_count\n",
        "          elif pos == 'ADV':\n",
        "              pos_stats['adv_count'] = pos_count\n",
        "          else:\n",
        "              raise RuntimeError('Unknown pos: {}'.format(pos))\n",
        "\n",
        "      lemma_pos_stats_df = lemma_pos_stats_df.append(pos_stats, ignore_index=True)\n",
        "  \n",
        "  return lemma_pos_stats_df"
      ],
      "execution_count": 19,
      "outputs": []
    },
    {
      "cell_type": "code",
      "metadata": {
        "id": "Lwh6CiPvrXEU"
      },
      "source": [
        "wic_train_lemma_pos_stats = get_lemma_pos_stats(wic_train)\n",
        "wic_dev_lemma_pos_stats = get_lemma_pos_stats(wic_dev)\n",
        "wic_test_lemma_pos_stats = get_lemma_pos_stats(wic_test)"
      ],
      "execution_count": 20,
      "outputs": []
    },
    {
      "cell_type": "code",
      "metadata": {
        "id": "fe5XSrKO1hMQ"
      },
      "source": [
        "wic_real_train_lemma_pos_stats = get_lemma_pos_stats(wic_real_train)\n",
        "wic_real_dev_lemma_pos_stats = get_lemma_pos_stats(wic_real_dev)"
      ],
      "execution_count": 89,
      "outputs": []
    },
    {
      "cell_type": "code",
      "metadata": {
        "colab": {
          "base_uri": "https://localhost:8080/",
          "height": 339
        },
        "id": "GkLDpWh3rkrx",
        "outputId": "89b4cff6-83d5-42ed-b570-999aa352b687"
      },
      "source": [
        "wic_train_lemma_pos_stats[['noun_count', 'verb_count', 'adj_count', 'adv_count']].value_counts(normalize=True).plot(kind='bar')"
      ],
      "execution_count": 21,
      "outputs": [
        {
          "output_type": "execute_result",
          "data": {
            "text/plain": [
              "<matplotlib.axes._subplots.AxesSubplot at 0x7fd730ba7e10>"
            ]
          },
          "metadata": {
            "tags": []
          },
          "execution_count": 21
        },
        {
          "output_type": "display_data",
          "data": {
            "image/png": "[encoded data removed]",
            "text/plain": [
              "<Figure size 432x288 with 1 Axes>"
            ]
          },
          "metadata": {
            "tags": [],
            "needs_background": "light"
          }
        }
      ]
    },
    {
      "cell_type": "code",
      "metadata": {
        "colab": {
          "base_uri": "https://localhost:8080/",
          "height": 341
        },
        "id": "hFx11duorqpX",
        "outputId": "fae732de-1b0f-4503-f2b3-025927934d50"
      },
      "source": [
        "wic_dev_lemma_pos_stats[['noun_count', 'verb_count', 'adj_count', 'adv_count']].value_counts(normalize=True).plot(kind='bar')"
      ],
      "execution_count": 22,
      "outputs": [
        {
          "output_type": "execute_result",
          "data": {
            "text/plain": [
              "<matplotlib.axes._subplots.AxesSubplot at 0x7fd730acb4d0>"
            ]
          },
          "metadata": {
            "tags": []
          },
          "execution_count": 22
        },
        {
          "output_type": "display_data",
          "data": {
            "image/png": "[encoded data removed]",
            "text/plain": [
              "<Figure size 432x288 with 1 Axes>"
            ]
          },
          "metadata": {
            "tags": [],
            "needs_background": "light"
          }
        }
      ]
    },
    {
      "cell_type": "code",
      "metadata": {
        "colab": {
          "base_uri": "https://localhost:8080/",
          "height": 355
        },
        "id": "UtUZd1A1rsM8",
        "outputId": "3ba9e4c5-c90d-4ccd-ec72-158e3f82b2da"
      },
      "source": [
        "plt.title('Test')\n",
        "wic_test_lemma_pos_stats[['noun_count', 'verb_count', 'adj_count', 'adv_count']].value_counts(normalize=True).plot(kind='bar')"
      ],
      "execution_count": 88,
      "outputs": [
        {
          "output_type": "execute_result",
          "data": {
            "text/plain": [
              "<matplotlib.axes._subplots.AxesSubplot at 0x7fd724722310>"
            ]
          },
          "metadata": {
            "tags": []
          },
          "execution_count": 88
        },
        {
          "output_type": "display_data",
          "data": {
            "image/png": "[encoded data removed]",
            "text/plain": [
              "<Figure size 432x288 with 1 Axes>"
            ]
          },
          "metadata": {
            "tags": [],
            "needs_background": "light"
          }
        }
      ]
    },
    {
      "cell_type": "code",
      "metadata": {
        "colab": {
          "base_uri": "https://localhost:8080/",
          "height": 355
        },
        "id": "VSd_qxxU1z47",
        "outputId": "a99d7eea-db2b-401d-d5ca-2769b2d885d1"
      },
      "source": [
        "plt.title('Train')\n",
        "wic_real_train_lemma_pos_stats[['noun_count', 'verb_count', 'adj_count', 'adv_count']].value_counts(normalize=True).nlargest(10).plot(kind='bar')"
      ],
      "execution_count": 91,
      "outputs": [
        {
          "output_type": "execute_result",
          "data": {
            "text/plain": [
              "<matplotlib.axes._subplots.AxesSubplot at 0x7fd71b842e90>"
            ]
          },
          "metadata": {
            "tags": []
          },
          "execution_count": 91
        },
        {
          "output_type": "display_data",
          "data": {
            "image/png": "[encoded data removed]",
            "text/plain": [
              "<Figure size 432x288 with 1 Axes>"
            ]
          },
          "metadata": {
            "tags": [],
            "needs_background": "light"
          }
        }
      ]
    },
    {
      "cell_type": "code",
      "metadata": {
        "colab": {
          "base_uri": "https://localhost:8080/",
          "height": 355
        },
        "id": "NZy7ffV52G6f",
        "outputId": "7d8fe8f0-9a70-4bd2-938d-735335950f5d"
      },
      "source": [
        "plt.title('Validation')\n",
        "wic_real_dev_lemma_pos_stats[['noun_count', 'verb_count', 'adj_count', 'adv_count']].value_counts(normalize=True).nlargest(10).plot(kind='bar')"
      ],
      "execution_count": 92,
      "outputs": [
        {
          "output_type": "execute_result",
          "data": {
            "text/plain": [
              "<matplotlib.axes._subplots.AxesSubplot at 0x7fd71b7fa190>"
            ]
          },
          "metadata": {
            "tags": []
          },
          "execution_count": 92
        },
        {
          "output_type": "display_data",
          "data": {
            "image/png": "[encoded data removed]",
            "text/plain": [
              "<Figure size 432x288 with 1 Axes>"
            ]
          },
          "metadata": {
            "tags": [],
            "needs_background": "light"
          }
        }
      ]
    },
    {
      "cell_type": "code",
      "metadata": {
        "id": "-VYFQtjm6-V0"
      },
      "source": [
        "superglue_train = reading.read_superglue_train()\n",
        "superglue_dev = reading.read_superglue_dev()"
      ],
      "execution_count": 108,
      "outputs": []
    },
    {
      "cell_type": "code",
      "metadata": {
        "colab": {
          "base_uri": "https://localhost:8080/"
        },
        "id": "w59GCWaW3_WK",
        "outputId": "80c41ea7-253a-4a22-c251-d4d922aefc56"
      },
      "source": [
        "def get_all_common_lemmas(df1, df2):\n",
        "  return set(df1['lemma'].to_numpy()) & set(df2['lemma'].to_numpy())\n",
        "\n",
        "def get_all_common_lemmas_three(df1, df2, df3):\n",
        "  return set(df1['lemma'].to_numpy()) & set(df2['lemma'].to_numpy()) & set(df3['lemma'].to_numpy())\n",
        "\n",
        "\n",
        "def get_intersect_ratio(df, common_lemmas):\n",
        "  return len(df[df['lemma'].isin(common_lemmas)]) / len(df) * 100\n",
        "\n",
        "\n",
        "#common_lemmas_wic_train_dev = get_all_common_lemmas(wic_train, wic_dev)\n",
        "#common_lemmas_wic_train_test = get_all_common_lemmas(wic_train, wic_test)\n",
        "#common_lemmas_wic_dev_test = get_all_common_lemmas(wic_dev, wic_test)\n",
        "#common_lemmas_wic_all = common_lemmas_wic_train_dev & common_lemmas_wic_train_test\n",
        "#\n",
        "#wic_train_intersection_ratio_for_train_dev = get_intersect_ratio(wic_train, common_lemmas_wic_train_dev)\n",
        "#wic_dev_intersection_ratio_for_train_dev = get_intersect_ratio(wic_dev, common_lemmas_wic_train_dev)\n",
        "\n",
        "def get_common_lemmas_len_and_intersect_ratios(df1, df2):\n",
        "  cl = get_all_common_lemmas(df1, df2)\n",
        "  return len(cl), get_intersect_ratio(df1, cl), get_intersect_ratio(df2, cl)\n",
        "\n",
        "\n",
        "print(f'common_lemmas_wic_train_dev: {get_common_lemmas_len_and_intersect_ratios(wic_train, wic_dev)}')\n",
        "print(f'common_lemmas_wic_train_test: {get_common_lemmas_len_and_intersect_ratios(wic_train, wic_test)}')\n",
        "print(f'common_lemmas_wic_dev_test: {get_common_lemmas_len_and_intersect_ratios(wic_dev, wic_test)}')\n",
        "print(f'common_lemmas_wic_all: {len(get_all_common_lemmas_three(wic_train, wic_dev, wic_test))}')\n",
        "\n",
        "print(f'common_lemmas_superglue_train_dev: {get_common_lemmas_len_and_intersect_ratios(superglue_train, superglue_dev)}')\n",
        "\n",
        "print(f'common_lemmas_real_train_dev: {get_common_lemmas_len_and_intersect_ratios(wic_real_train, wic_real_dev)}')\n",
        "print(f'common_lemmas_real_train_test: {get_common_lemmas_len_and_intersect_ratios(wic_real_train, wic_test)}')\n",
        "print(f'common_lemmas_real_dev_test: {get_common_lemmas_len_and_intersect_ratios(wic_real_dev, wic_test)}')\n",
        "print(f'common_lemmas_real_all: {len(get_all_common_lemmas_three(wic_real_train, wic_real_dev, wic_test))}')"
      ],
      "execution_count": 111,
      "outputs": [
        {
          "output_type": "stream",
          "text": [
            "common_lemmas_wic_train_dev: (76, 2.0, 15.2)\n",
            "common_lemmas_wic_train_test: (85, 2.175, 17.0)\n",
            "common_lemmas_wic_dev_test: (13, 2.6, 2.6)\n",
            "common_lemmas_wic_all: 0\n",
            "common_lemmas_superglue_train_dev: (229, 29.329403095062638, 39.811912225705335)\n",
            "common_lemmas_real_train_dev: (0, 0.0, 0.0)\n",
            "common_lemmas_real_train_test: (203, 8.876021798365123, 41.8)\n",
            "common_lemmas_real_dev_test: (8, 6.994818652849741, 1.7999999999999998)\n",
            "common_lemmas_real_all: 0\n"
          ],
          "name": "stdout"
        }
      ]
    },
    {
      "cell_type": "code",
      "metadata": {
        "id": "Nq9qti-lUWcy"
      },
      "source": [
        "def get_intersections_on(df1, df2, on):\n",
        "  df1_gb = df1.groupby(by=on).size().reset_index(name='count')\n",
        "  df2_gb = df2.groupby(by=on).size().reset_index(name='count')\n",
        "  return df1_gb.merge(df2_gb, how='inner', on=on)"
      ],
      "execution_count": 136,
      "outputs": []
    },
    {
      "cell_type": "code",
      "metadata": {
        "id": "DLCnrM3pMqQe"
      },
      "source": [
        "wic_train_gb = wic_train.groupby(by=['lemma', 'pos']).size().reset_index(name='count')\n",
        "wic_dev_gb = wic_dev.groupby(by=['lemma', 'pos']).size().reset_index(name='count')\n",
        "wic_test_gb = wic_test.groupby(by=['lemma', 'pos']).size().reset_index(name='count')"
      ],
      "execution_count": 25,
      "outputs": []
    },
    {
      "cell_type": "code",
      "metadata": {
        "id": "gQwxcR20PrPd",
        "colab": {
          "base_uri": "https://localhost:8080/",
          "height": 49
        },
        "outputId": "fcbb7874-159b-409b-9bd7-343286d4b3e5"
      },
      "source": [
        "get_intersections_on(wic_train, wic_dev, on=['lemma', 'pos'])"
      ],
      "execution_count": 26,
      "outputs": [
        {
          "output_type": "execute_result",
          "data": {
            "text/html": [
              "<div>\n",
              "<style scoped>\n",
              "    .dataframe tbody tr th:only-of-type {\n",
              "        vertical-align: middle;\n",
              "    }\n",
              "\n",
              "    .dataframe tbody tr th {\n",
              "        vertical-align: top;\n",
              "    }\n",
              "\n",
              "    .dataframe thead th {\n",
              "        text-align: right;\n",
              "    }\n",
              "</style>\n",
              "<table border=\"1\" class=\"dataframe\">\n",
              "  <thead>\n",
              "    <tr style=\"text-align: right;\">\n",
              "      <th></th>\n",
              "      <th>lemma</th>\n",
              "      <th>pos</th>\n",
              "      <th>count_x</th>\n",
              "      <th>count_y</th>\n",
              "    </tr>\n",
              "  </thead>\n",
              "  <tbody>\n",
              "  </tbody>\n",
              "</table>\n",
              "</div>"
            ],
            "text/plain": [
              "Empty DataFrame\n",
              "Columns: [lemma, pos, count_x, count_y]\n",
              "Index: []"
            ]
          },
          "metadata": {
            "tags": []
          },
          "execution_count": 26
        }
      ]
    },
    {
      "cell_type": "code",
      "metadata": {
        "id": "licSk1mPVBRW",
        "colab": {
          "base_uri": "https://localhost:8080/",
          "height": 49
        },
        "outputId": "ec1c3513-92bd-4673-e09b-6530c77cfbfd"
      },
      "source": [
        "get_intersections_on(wic_train, wic_test, on=['lemma', 'pos'])"
      ],
      "execution_count": 27,
      "outputs": [
        {
          "output_type": "execute_result",
          "data": {
            "text/html": [
              "<div>\n",
              "<style scoped>\n",
              "    .dataframe tbody tr th:only-of-type {\n",
              "        vertical-align: middle;\n",
              "    }\n",
              "\n",
              "    .dataframe tbody tr th {\n",
              "        vertical-align: top;\n",
              "    }\n",
              "\n",
              "    .dataframe thead th {\n",
              "        text-align: right;\n",
              "    }\n",
              "</style>\n",
              "<table border=\"1\" class=\"dataframe\">\n",
              "  <thead>\n",
              "    <tr style=\"text-align: right;\">\n",
              "      <th></th>\n",
              "      <th>lemma</th>\n",
              "      <th>pos</th>\n",
              "      <th>count_x</th>\n",
              "      <th>count_y</th>\n",
              "    </tr>\n",
              "  </thead>\n",
              "  <tbody>\n",
              "  </tbody>\n",
              "</table>\n",
              "</div>"
            ],
            "text/plain": [
              "Empty DataFrame\n",
              "Columns: [lemma, pos, count_x, count_y]\n",
              "Index: []"
            ]
          },
          "metadata": {
            "tags": []
          },
          "execution_count": 27
        }
      ]
    },
    {
      "cell_type": "code",
      "metadata": {
        "id": "ODnJl-TEVEJP",
        "colab": {
          "base_uri": "https://localhost:8080/",
          "height": 49
        },
        "outputId": "fadf5196-8c92-4aad-d7cf-b60751c79132"
      },
      "source": [
        "get_intersections_on(wic_dev, wic_test, on=['lemma', 'pos'])"
      ],
      "execution_count": 28,
      "outputs": [
        {
          "output_type": "execute_result",
          "data": {
            "text/html": [
              "<div>\n",
              "<style scoped>\n",
              "    .dataframe tbody tr th:only-of-type {\n",
              "        vertical-align: middle;\n",
              "    }\n",
              "\n",
              "    .dataframe tbody tr th {\n",
              "        vertical-align: top;\n",
              "    }\n",
              "\n",
              "    .dataframe thead th {\n",
              "        text-align: right;\n",
              "    }\n",
              "</style>\n",
              "<table border=\"1\" class=\"dataframe\">\n",
              "  <thead>\n",
              "    <tr style=\"text-align: right;\">\n",
              "      <th></th>\n",
              "      <th>lemma</th>\n",
              "      <th>pos</th>\n",
              "      <th>count_x</th>\n",
              "      <th>count_y</th>\n",
              "    </tr>\n",
              "  </thead>\n",
              "  <tbody>\n",
              "  </tbody>\n",
              "</table>\n",
              "</div>"
            ],
            "text/plain": [
              "Empty DataFrame\n",
              "Columns: [lemma, pos, count_x, count_y]\n",
              "Index: []"
            ]
          },
          "metadata": {
            "tags": []
          },
          "execution_count": 28
        }
      ]
    },
    {
      "cell_type": "code",
      "metadata": {
        "id": "morrsYwVVmR3",
        "colab": {
          "base_uri": "https://localhost:8080/",
          "height": 419
        },
        "outputId": "2010934f-4372-4e1b-f048-225334a90f1f"
      },
      "source": [
        "get_intersections_on(wic_train, wic_dev, on=['lemma'])"
      ],
      "execution_count": 29,
      "outputs": [
        {
          "output_type": "execute_result",
          "data": {
            "text/html": [
              "<div>\n",
              "<style scoped>\n",
              "    .dataframe tbody tr th:only-of-type {\n",
              "        vertical-align: middle;\n",
              "    }\n",
              "\n",
              "    .dataframe tbody tr th {\n",
              "        vertical-align: top;\n",
              "    }\n",
              "\n",
              "    .dataframe thead th {\n",
              "        text-align: right;\n",
              "    }\n",
              "</style>\n",
              "<table border=\"1\" class=\"dataframe\">\n",
              "  <thead>\n",
              "    <tr style=\"text-align: right;\">\n",
              "      <th></th>\n",
              "      <th>lemma</th>\n",
              "      <th>count_x</th>\n",
              "      <th>count_y</th>\n",
              "    </tr>\n",
              "  </thead>\n",
              "  <tbody>\n",
              "    <tr>\n",
              "      <th>0</th>\n",
              "      <td>alternate</td>\n",
              "      <td>2</td>\n",
              "      <td>2</td>\n",
              "    </tr>\n",
              "    <tr>\n",
              "      <th>1</th>\n",
              "      <td>back</td>\n",
              "      <td>4</td>\n",
              "      <td>2</td>\n",
              "    </tr>\n",
              "    <tr>\n",
              "      <th>2</th>\n",
              "      <td>ban</td>\n",
              "      <td>2</td>\n",
              "      <td>2</td>\n",
              "    </tr>\n",
              "    <tr>\n",
              "      <th>3</th>\n",
              "      <td>bang</td>\n",
              "      <td>2</td>\n",
              "      <td>2</td>\n",
              "    </tr>\n",
              "    <tr>\n",
              "      <th>4</th>\n",
              "      <td>beat</td>\n",
              "      <td>2</td>\n",
              "      <td>2</td>\n",
              "    </tr>\n",
              "    <tr>\n",
              "      <th>...</th>\n",
              "      <td>...</td>\n",
              "      <td>...</td>\n",
              "      <td>...</td>\n",
              "    </tr>\n",
              "    <tr>\n",
              "      <th>71</th>\n",
              "      <td>trip</td>\n",
              "      <td>2</td>\n",
              "      <td>2</td>\n",
              "    </tr>\n",
              "    <tr>\n",
              "      <th>72</th>\n",
              "      <td>truss</td>\n",
              "      <td>2</td>\n",
              "      <td>2</td>\n",
              "    </tr>\n",
              "    <tr>\n",
              "      <th>73</th>\n",
              "      <td>venture</td>\n",
              "      <td>2</td>\n",
              "      <td>2</td>\n",
              "    </tr>\n",
              "    <tr>\n",
              "      <th>74</th>\n",
              "      <td>wake</td>\n",
              "      <td>2</td>\n",
              "      <td>2</td>\n",
              "    </tr>\n",
              "    <tr>\n",
              "      <th>75</th>\n",
              "      <td>whip</td>\n",
              "      <td>2</td>\n",
              "      <td>2</td>\n",
              "    </tr>\n",
              "  </tbody>\n",
              "</table>\n",
              "<p>76 rows × 3 columns</p>\n",
              "</div>"
            ],
            "text/plain": [
              "        lemma  count_x  count_y\n",
              "0   alternate        2        2\n",
              "1        back        4        2\n",
              "2         ban        2        2\n",
              "3        bang        2        2\n",
              "4        beat        2        2\n",
              "..        ...      ...      ...\n",
              "71       trip        2        2\n",
              "72      truss        2        2\n",
              "73    venture        2        2\n",
              "74       wake        2        2\n",
              "75       whip        2        2\n",
              "\n",
              "[76 rows x 3 columns]"
            ]
          },
          "metadata": {
            "tags": []
          },
          "execution_count": 29
        }
      ]
    },
    {
      "cell_type": "code",
      "metadata": {
        "id": "Ez4_xvWoVoN4",
        "colab": {
          "base_uri": "https://localhost:8080/",
          "height": 419
        },
        "outputId": "a3e48850-0879-4bb3-d31e-be76ffe065ba"
      },
      "source": [
        "get_intersections_on(wic_train, wic_test, on=['lemma'])"
      ],
      "execution_count": 30,
      "outputs": [
        {
          "output_type": "execute_result",
          "data": {
            "text/html": [
              "<div>\n",
              "<style scoped>\n",
              "    .dataframe tbody tr th:only-of-type {\n",
              "        vertical-align: middle;\n",
              "    }\n",
              "\n",
              "    .dataframe tbody tr th {\n",
              "        vertical-align: top;\n",
              "    }\n",
              "\n",
              "    .dataframe thead th {\n",
              "        text-align: right;\n",
              "    }\n",
              "</style>\n",
              "<table border=\"1\" class=\"dataframe\">\n",
              "  <thead>\n",
              "    <tr style=\"text-align: right;\">\n",
              "      <th></th>\n",
              "      <th>lemma</th>\n",
              "      <th>count_x</th>\n",
              "      <th>count_y</th>\n",
              "    </tr>\n",
              "  </thead>\n",
              "  <tbody>\n",
              "    <tr>\n",
              "      <th>0</th>\n",
              "      <td>act</td>\n",
              "      <td>2</td>\n",
              "      <td>2</td>\n",
              "    </tr>\n",
              "    <tr>\n",
              "      <th>1</th>\n",
              "      <td>air</td>\n",
              "      <td>2</td>\n",
              "      <td>2</td>\n",
              "    </tr>\n",
              "    <tr>\n",
              "      <th>2</th>\n",
              "      <td>attack</td>\n",
              "      <td>2</td>\n",
              "      <td>2</td>\n",
              "    </tr>\n",
              "    <tr>\n",
              "      <th>3</th>\n",
              "      <td>balance</td>\n",
              "      <td>2</td>\n",
              "      <td>2</td>\n",
              "    </tr>\n",
              "    <tr>\n",
              "      <th>4</th>\n",
              "      <td>base</td>\n",
              "      <td>2</td>\n",
              "      <td>2</td>\n",
              "    </tr>\n",
              "    <tr>\n",
              "      <th>...</th>\n",
              "      <td>...</td>\n",
              "      <td>...</td>\n",
              "      <td>...</td>\n",
              "    </tr>\n",
              "    <tr>\n",
              "      <th>80</th>\n",
              "      <td>twist</td>\n",
              "      <td>2</td>\n",
              "      <td>2</td>\n",
              "    </tr>\n",
              "    <tr>\n",
              "      <th>81</th>\n",
              "      <td>upgrade</td>\n",
              "      <td>2</td>\n",
              "      <td>2</td>\n",
              "    </tr>\n",
              "    <tr>\n",
              "      <th>82</th>\n",
              "      <td>value</td>\n",
              "      <td>2</td>\n",
              "      <td>2</td>\n",
              "    </tr>\n",
              "    <tr>\n",
              "      <th>83</th>\n",
              "      <td>whitewash</td>\n",
              "      <td>2</td>\n",
              "      <td>2</td>\n",
              "    </tr>\n",
              "    <tr>\n",
              "      <th>84</th>\n",
              "      <td>yield</td>\n",
              "      <td>2</td>\n",
              "      <td>2</td>\n",
              "    </tr>\n",
              "  </tbody>\n",
              "</table>\n",
              "<p>85 rows × 3 columns</p>\n",
              "</div>"
            ],
            "text/plain": [
              "        lemma  count_x  count_y\n",
              "0         act        2        2\n",
              "1         air        2        2\n",
              "2      attack        2        2\n",
              "3     balance        2        2\n",
              "4        base        2        2\n",
              "..        ...      ...      ...\n",
              "80      twist        2        2\n",
              "81    upgrade        2        2\n",
              "82      value        2        2\n",
              "83  whitewash        2        2\n",
              "84      yield        2        2\n",
              "\n",
              "[85 rows x 3 columns]"
            ]
          },
          "metadata": {
            "tags": []
          },
          "execution_count": 30
        }
      ]
    },
    {
      "cell_type": "code",
      "metadata": {
        "id": "k5wZ5a6vV3np",
        "colab": {
          "base_uri": "https://localhost:8080/",
          "height": 452
        },
        "outputId": "b3f94db1-9c02-4dc3-df26-c8806e55976d"
      },
      "source": [
        "get_intersections_on(wic_dev, wic_test, on=['lemma'])"
      ],
      "execution_count": 31,
      "outputs": [
        {
          "output_type": "execute_result",
          "data": {
            "text/html": [
              "<div>\n",
              "<style scoped>\n",
              "    .dataframe tbody tr th:only-of-type {\n",
              "        vertical-align: middle;\n",
              "    }\n",
              "\n",
              "    .dataframe tbody tr th {\n",
              "        vertical-align: top;\n",
              "    }\n",
              "\n",
              "    .dataframe thead th {\n",
              "        text-align: right;\n",
              "    }\n",
              "</style>\n",
              "<table border=\"1\" class=\"dataframe\">\n",
              "  <thead>\n",
              "    <tr style=\"text-align: right;\">\n",
              "      <th></th>\n",
              "      <th>lemma</th>\n",
              "      <th>count_x</th>\n",
              "      <th>count_y</th>\n",
              "    </tr>\n",
              "  </thead>\n",
              "  <tbody>\n",
              "    <tr>\n",
              "      <th>0</th>\n",
              "      <td>bent</td>\n",
              "      <td>2</td>\n",
              "      <td>2</td>\n",
              "    </tr>\n",
              "    <tr>\n",
              "      <th>1</th>\n",
              "      <td>charm</td>\n",
              "      <td>2</td>\n",
              "      <td>2</td>\n",
              "    </tr>\n",
              "    <tr>\n",
              "      <th>2</th>\n",
              "      <td>direct</td>\n",
              "      <td>2</td>\n",
              "      <td>2</td>\n",
              "    </tr>\n",
              "    <tr>\n",
              "      <th>3</th>\n",
              "      <td>escape</td>\n",
              "      <td>2</td>\n",
              "      <td>2</td>\n",
              "    </tr>\n",
              "    <tr>\n",
              "      <th>4</th>\n",
              "      <td>flash</td>\n",
              "      <td>2</td>\n",
              "      <td>2</td>\n",
              "    </tr>\n",
              "    <tr>\n",
              "      <th>5</th>\n",
              "      <td>flush</td>\n",
              "      <td>2</td>\n",
              "      <td>2</td>\n",
              "    </tr>\n",
              "    <tr>\n",
              "      <th>6</th>\n",
              "      <td>honor</td>\n",
              "      <td>2</td>\n",
              "      <td>2</td>\n",
              "    </tr>\n",
              "    <tr>\n",
              "      <th>7</th>\n",
              "      <td>leak</td>\n",
              "      <td>2</td>\n",
              "      <td>2</td>\n",
              "    </tr>\n",
              "    <tr>\n",
              "      <th>8</th>\n",
              "      <td>lift</td>\n",
              "      <td>2</td>\n",
              "      <td>2</td>\n",
              "    </tr>\n",
              "    <tr>\n",
              "      <th>9</th>\n",
              "      <td>pace</td>\n",
              "      <td>2</td>\n",
              "      <td>2</td>\n",
              "    </tr>\n",
              "    <tr>\n",
              "      <th>10</th>\n",
              "      <td>reach</td>\n",
              "      <td>2</td>\n",
              "      <td>2</td>\n",
              "    </tr>\n",
              "    <tr>\n",
              "      <th>11</th>\n",
              "      <td>well</td>\n",
              "      <td>2</td>\n",
              "      <td>2</td>\n",
              "    </tr>\n",
              "    <tr>\n",
              "      <th>12</th>\n",
              "      <td>wheel</td>\n",
              "      <td>2</td>\n",
              "      <td>2</td>\n",
              "    </tr>\n",
              "  </tbody>\n",
              "</table>\n",
              "</div>"
            ],
            "text/plain": [
              "     lemma  count_x  count_y\n",
              "0     bent        2        2\n",
              "1    charm        2        2\n",
              "2   direct        2        2\n",
              "3   escape        2        2\n",
              "4    flash        2        2\n",
              "5    flush        2        2\n",
              "6    honor        2        2\n",
              "7     leak        2        2\n",
              "8     lift        2        2\n",
              "9     pace        2        2\n",
              "10   reach        2        2\n",
              "11    well        2        2\n",
              "12   wheel        2        2"
            ]
          },
          "metadata": {
            "tags": []
          },
          "execution_count": 31
        }
      ]
    },
    {
      "cell_type": "code",
      "metadata": {
        "colab": {
          "base_uri": "https://localhost:8080/",
          "height": 419
        },
        "id": "8aYVDuNqgG2V",
        "outputId": "4db22d48-54ad-45a4-9475-be2ba131c099"
      },
      "source": [
        "get_intersections_on(wic_real_train, wic_test, on=['lemma', 'pos'])"
      ],
      "execution_count": 138,
      "outputs": [
        {
          "output_type": "execute_result",
          "data": {
            "text/html": [
              "<div>\n",
              "<style scoped>\n",
              "    .dataframe tbody tr th:only-of-type {\n",
              "        vertical-align: middle;\n",
              "    }\n",
              "\n",
              "    .dataframe tbody tr th {\n",
              "        vertical-align: top;\n",
              "    }\n",
              "\n",
              "    .dataframe thead th {\n",
              "        text-align: right;\n",
              "    }\n",
              "</style>\n",
              "<table border=\"1\" class=\"dataframe\">\n",
              "  <thead>\n",
              "    <tr style=\"text-align: right;\">\n",
              "      <th></th>\n",
              "      <th>lemma</th>\n",
              "      <th>pos</th>\n",
              "      <th>count_x</th>\n",
              "      <th>count_y</th>\n",
              "    </tr>\n",
              "  </thead>\n",
              "  <tbody>\n",
              "    <tr>\n",
              "      <th>0</th>\n",
              "      <td>accession</td>\n",
              "      <td>NOUN</td>\n",
              "      <td>1</td>\n",
              "      <td>2</td>\n",
              "    </tr>\n",
              "    <tr>\n",
              "      <th>1</th>\n",
              "      <td>action</td>\n",
              "      <td>NOUN</td>\n",
              "      <td>13</td>\n",
              "      <td>2</td>\n",
              "    </tr>\n",
              "    <tr>\n",
              "      <th>2</th>\n",
              "      <td>affair</td>\n",
              "      <td>NOUN</td>\n",
              "      <td>1</td>\n",
              "      <td>2</td>\n",
              "    </tr>\n",
              "    <tr>\n",
              "      <th>3</th>\n",
              "      <td>age</td>\n",
              "      <td>NOUN</td>\n",
              "      <td>4</td>\n",
              "      <td>2</td>\n",
              "    </tr>\n",
              "    <tr>\n",
              "      <th>4</th>\n",
              "      <td>agree</td>\n",
              "      <td>VERB</td>\n",
              "      <td>2</td>\n",
              "      <td>2</td>\n",
              "    </tr>\n",
              "    <tr>\n",
              "      <th>...</th>\n",
              "      <td>...</td>\n",
              "      <td>...</td>\n",
              "      <td>...</td>\n",
              "      <td>...</td>\n",
              "    </tr>\n",
              "    <tr>\n",
              "      <th>132</th>\n",
              "      <td>upgrade</td>\n",
              "      <td>NOUN</td>\n",
              "      <td>1</td>\n",
              "      <td>2</td>\n",
              "    </tr>\n",
              "    <tr>\n",
              "      <th>133</th>\n",
              "      <td>utility</td>\n",
              "      <td>NOUN</td>\n",
              "      <td>1</td>\n",
              "      <td>2</td>\n",
              "    </tr>\n",
              "    <tr>\n",
              "      <th>134</th>\n",
              "      <td>winnow</td>\n",
              "      <td>VERB</td>\n",
              "      <td>1</td>\n",
              "      <td>2</td>\n",
              "    </tr>\n",
              "    <tr>\n",
              "      <th>135</th>\n",
              "      <td>word</td>\n",
              "      <td>NOUN</td>\n",
              "      <td>3</td>\n",
              "      <td>2</td>\n",
              "    </tr>\n",
              "    <tr>\n",
              "      <th>136</th>\n",
              "      <td>year</td>\n",
              "      <td>NOUN</td>\n",
              "      <td>9</td>\n",
              "      <td>2</td>\n",
              "    </tr>\n",
              "  </tbody>\n",
              "</table>\n",
              "<p>137 rows × 4 columns</p>\n",
              "</div>"
            ],
            "text/plain": [
              "         lemma   pos  count_x  count_y\n",
              "0    accession  NOUN        1        2\n",
              "1       action  NOUN       13        2\n",
              "2       affair  NOUN        1        2\n",
              "3          age  NOUN        4        2\n",
              "4        agree  VERB        2        2\n",
              "..         ...   ...      ...      ...\n",
              "132    upgrade  NOUN        1        2\n",
              "133    utility  NOUN        1        2\n",
              "134     winnow  VERB        1        2\n",
              "135       word  NOUN        3        2\n",
              "136       year  NOUN        9        2\n",
              "\n",
              "[137 rows x 4 columns]"
            ]
          },
          "metadata": {
            "tags": []
          },
          "execution_count": 138
        }
      ]
    },
    {
      "cell_type": "code",
      "metadata": {
        "id": "rnJcO0TLDheX"
      },
      "source": [
        "wic_train['lemma_pos'] = wic_train['lemma'] + wic_train['pos']\n",
        "wic_dev['lemma_pos'] = wic_dev['lemma'] + wic_dev['pos']\n",
        "wic_test['lemma_pos'] = wic_test['lemma'] + wic_test['pos']\n",
        "\n",
        "wic_real_train['lemma_pos'] = wic_real_train['lemma'] + wic_real_train['pos']\n",
        "wic_real_dev['lemma_pos'] = wic_real_dev['lemma'] + wic_real_dev['pos']\n",
        "\n",
        "superglue_train['lemma_pos'] = superglue_train['lemma'] + superglue_train['pos']\n",
        "superglue_dev['lemma_pos'] = superglue_dev['lemma'] + superglue_dev['pos']"
      ],
      "execution_count": 125,
      "outputs": []
    },
    {
      "cell_type": "code",
      "metadata": {
        "id": "eDyVp7kJEogG"
      },
      "source": [
        ""
      ],
      "execution_count": null,
      "outputs": []
    },
    {
      "cell_type": "code",
      "metadata": {
        "colab": {
          "base_uri": "https://localhost:8080/"
        },
        "id": "g2Xmg1JiEF1G",
        "outputId": "de0b9551-bd4b-49a9-f531-0921a1a89a6e"
      },
      "source": [
        "def get_all_common_lemma_pos(df1, df2):\n",
        "  return set(df1['lemma_pos'].to_numpy()) & set(df2['lemma_pos'].to_numpy())\n",
        "\n",
        "def get_all_common_lemma_pos_three(df1, df2, df3):\n",
        "  return set(df1['lemma_pos'].to_numpy()) & set(df2['lemma_pos'].to_numpy()) & set(df3['lemma_pos'].to_numpy())\n",
        "\n",
        "\n",
        "def get_intersect_ratio_lemma_pos(df, common_lemma_pos):\n",
        "  return len(df[df['lemma_pos'].isin(common_lemma_pos)]) / len(df) * 100\n",
        "\n",
        "\n",
        "def get_common_lemma_pos_len_and_intersect_ratios(df1, df2):\n",
        "  cl = get_all_common_lemma_pos(df1, df2)\n",
        "  return len(cl), get_intersect_ratio_lemma_pos(df1, cl), get_intersect_ratio_lemma_pos(df2, cl)\n",
        "\n",
        "\n",
        "print(f'common_lemmas_wic_train_dev: {get_common_lemma_pos_len_and_intersect_ratios(wic_train, wic_dev)}')\n",
        "print(f'common_lemmas_wic_train_test: {get_common_lemma_pos_len_and_intersect_ratios(wic_train, wic_test)}')\n",
        "print(f'common_lemmas_wic_dev_test: {get_common_lemma_pos_len_and_intersect_ratios(wic_dev, wic_test)}')\n",
        "print(f'common_lemmas_wic_all: {len(get_all_common_lemma_pos_three(wic_train, wic_dev, wic_test))}')\n",
        "\n",
        "print(f'common_lemmas_superglue_train_dev: {get_common_lemma_pos_len_and_intersect_ratios(superglue_train, superglue_dev)}')\n",
        "\n",
        "print(f'common_lemmas_real_train_dev: {get_common_lemma_pos_len_and_intersect_ratios(wic_real_train, wic_real_dev)}')\n",
        "print(f'common_lemmas_real_train_test: {get_common_lemmas_len_and_intersect_ratios(wic_real_train, wic_test)}')\n",
        "print(f'common_lemmas_real_dev_test: {get_common_lemma_pos_len_and_intersect_ratios(wic_real_dev, wic_test)}')\n",
        "print(f'common_lemmas_real_all: {len(get_all_common_lemma_pos_three(wic_real_train, wic_real_dev, wic_test))}')"
      ],
      "execution_count": 139,
      "outputs": [
        {
          "output_type": "stream",
          "text": [
            "common_lemmas_wic_train_dev: (0, 0.0, 0.0)\n",
            "common_lemmas_wic_train_test: (0, 0.0, 0.0)\n",
            "common_lemmas_wic_dev_test: (0, 0.0, 0.0)\n",
            "common_lemmas_wic_all: 0\n",
            "common_lemmas_superglue_train_dev: (195, 19.38098747236551, 32.288401253918494)\n",
            "common_lemmas_real_train_dev: (0, 0.0, 0.0)\n",
            "common_lemmas_real_train_test: (203, 8.876021798365123, 41.8)\n",
            "common_lemmas_real_dev_test: (7, 5.181347150259067, 1.4000000000000001)\n",
            "common_lemmas_real_all: 0\n"
          ],
          "name": "stdout"
        }
      ]
    }
  ]
}