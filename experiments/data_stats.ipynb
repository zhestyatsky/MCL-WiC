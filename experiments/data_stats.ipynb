{
 "cells": [
  {
   "cell_type": "code",
   "execution_count": 1,
   "metadata": {},
   "outputs": [],
   "source": [
    "import json\n",
    "import pandas as pd\n",
    "\n",
    "with open('../data/training/multilingual/training.en-en.data') as f:\n",
    "    train_en_en_X = json.load(f)\n",
    "    \n",
    "with open('../data/training/multilingual/training.en-en.gold') as f:\n",
    "    train_en_en_y = json.load(f)\n",
    "    \n",
    "df = pd.DataFrame(train_en_en_X)\n",
    "df = df.merge(pd.DataFrame(train_en_en_y))"
   ]
  },
  {
   "cell_type": "code",
   "execution_count": 2,
   "metadata": {
    "scrolled": false
   },
   "outputs": [
    {
     "data": {
      "text/html": [
       "<div>\n",
       "<style scoped>\n",
       "    .dataframe tbody tr th:only-of-type {\n",
       "        vertical-align: middle;\n",
       "    }\n",
       "\n",
       "    .dataframe tbody tr th {\n",
       "        vertical-align: top;\n",
       "    }\n",
       "\n",
       "    .dataframe thead th {\n",
       "        text-align: right;\n",
       "    }\n",
       "</style>\n",
       "<table border=\"1\" class=\"dataframe\">\n",
       "  <thead>\n",
       "    <tr style=\"text-align: right;\">\n",
       "      <th></th>\n",
       "      <th>id</th>\n",
       "      <th>lemma</th>\n",
       "      <th>pos</th>\n",
       "      <th>sentence1</th>\n",
       "      <th>sentence2</th>\n",
       "      <th>start1</th>\n",
       "      <th>end1</th>\n",
       "      <th>start2</th>\n",
       "      <th>end2</th>\n",
       "      <th>tag</th>\n",
       "    </tr>\n",
       "  </thead>\n",
       "  <tbody>\n",
       "    <tr>\n",
       "      <th>0</th>\n",
       "      <td>training.en-en.0</td>\n",
       "      <td>play</td>\n",
       "      <td>NOUN</td>\n",
       "      <td>In that context of coordination and integratio...</td>\n",
       "      <td>A musical play on the same subject was also st...</td>\n",
       "      <td>69</td>\n",
       "      <td>73</td>\n",
       "      <td>10</td>\n",
       "      <td>14</td>\n",
       "      <td>F</td>\n",
       "    </tr>\n",
       "    <tr>\n",
       "      <th>1</th>\n",
       "      <td>training.en-en.1</td>\n",
       "      <td>play</td>\n",
       "      <td>NOUN</td>\n",
       "      <td>In that context of coordination and integratio...</td>\n",
       "      <td>In schools, when water is needed, it is girls ...</td>\n",
       "      <td>69</td>\n",
       "      <td>73</td>\n",
       "      <td>112</td>\n",
       "      <td>116</td>\n",
       "      <td>F</td>\n",
       "    </tr>\n",
       "    <tr>\n",
       "      <th>2</th>\n",
       "      <td>training.en-en.2</td>\n",
       "      <td>esteem</td>\n",
       "      <td>NOUN</td>\n",
       "      <td>We would also like to convey our esteem and co...</td>\n",
       "      <td>Father Lini said that, because of that, the Un...</td>\n",
       "      <td>33</td>\n",
       "      <td>39</td>\n",
       "      <td>106</td>\n",
       "      <td>112</td>\n",
       "      <td>T</td>\n",
       "    </tr>\n",
       "    <tr>\n",
       "      <th>3</th>\n",
       "      <td>training.en-en.3</td>\n",
       "      <td>esteem</td>\n",
       "      <td>NOUN</td>\n",
       "      <td>We would also like to convey our esteem and co...</td>\n",
       "      <td>This attests to the esteem and trust enjoyed b...</td>\n",
       "      <td>33</td>\n",
       "      <td>39</td>\n",
       "      <td>20</td>\n",
       "      <td>26</td>\n",
       "      <td>T</td>\n",
       "    </tr>\n",
       "    <tr>\n",
       "      <th>4</th>\n",
       "      <td>training.en-en.4</td>\n",
       "      <td>holder</td>\n",
       "      <td>NOUN</td>\n",
       "      <td>This growth is the direct result of the increa...</td>\n",
       "      <td>A person may be either the holder of an option...</td>\n",
       "      <td>74</td>\n",
       "      <td>81</td>\n",
       "      <td>27</td>\n",
       "      <td>33</td>\n",
       "      <td>T</td>\n",
       "    </tr>\n",
       "  </tbody>\n",
       "</table>\n",
       "</div>"
      ],
      "text/plain": [
       "                 id   lemma   pos  \\\n",
       "0  training.en-en.0    play  NOUN   \n",
       "1  training.en-en.1    play  NOUN   \n",
       "2  training.en-en.2  esteem  NOUN   \n",
       "3  training.en-en.3  esteem  NOUN   \n",
       "4  training.en-en.4  holder  NOUN   \n",
       "\n",
       "                                           sentence1  \\\n",
       "0  In that context of coordination and integratio...   \n",
       "1  In that context of coordination and integratio...   \n",
       "2  We would also like to convey our esteem and co...   \n",
       "3  We would also like to convey our esteem and co...   \n",
       "4  This growth is the direct result of the increa...   \n",
       "\n",
       "                                           sentence2 start1 end1 start2 end2  \\\n",
       "0  A musical play on the same subject was also st...     69   73     10   14   \n",
       "1  In schools, when water is needed, it is girls ...     69   73    112  116   \n",
       "2  Father Lini said that, because of that, the Un...     33   39    106  112   \n",
       "3  This attests to the esteem and trust enjoyed b...     33   39     20   26   \n",
       "4  A person may be either the holder of an option...     74   81     27   33   \n",
       "\n",
       "  tag  \n",
       "0   F  \n",
       "1   F  \n",
       "2   T  \n",
       "3   T  \n",
       "4   T  "
      ]
     },
     "execution_count": 2,
     "metadata": {},
     "output_type": "execute_result"
    }
   ],
   "source": [
    "df.head()"
   ]
  },
  {
   "cell_type": "code",
   "execution_count": 3,
   "metadata": {},
   "outputs": [
    {
     "data": {
      "text/plain": [
       "(8000, 10)"
      ]
     },
     "execution_count": 3,
     "metadata": {},
     "output_type": "execute_result"
    }
   ],
   "source": [
    "df.shape"
   ]
  },
  {
   "cell_type": "code",
   "execution_count": 4,
   "metadata": {
    "scrolled": true
   },
   "outputs": [
    {
     "data": {
      "text/html": [
       "<div>\n",
       "<style scoped>\n",
       "    .dataframe tbody tr th:only-of-type {\n",
       "        vertical-align: middle;\n",
       "    }\n",
       "\n",
       "    .dataframe tbody tr th {\n",
       "        vertical-align: top;\n",
       "    }\n",
       "\n",
       "    .dataframe thead th {\n",
       "        text-align: right;\n",
       "    }\n",
       "</style>\n",
       "<table border=\"1\" class=\"dataframe\">\n",
       "  <thead>\n",
       "    <tr style=\"text-align: right;\">\n",
       "      <th></th>\n",
       "      <th>id</th>\n",
       "      <th>lemma</th>\n",
       "      <th>pos</th>\n",
       "      <th>sentence1</th>\n",
       "      <th>sentence2</th>\n",
       "      <th>start1</th>\n",
       "      <th>end1</th>\n",
       "      <th>start2</th>\n",
       "      <th>end2</th>\n",
       "      <th>tag</th>\n",
       "    </tr>\n",
       "  </thead>\n",
       "  <tbody>\n",
       "    <tr>\n",
       "      <th>count</th>\n",
       "      <td>8000</td>\n",
       "      <td>8000</td>\n",
       "      <td>8000</td>\n",
       "      <td>8000</td>\n",
       "      <td>8000</td>\n",
       "      <td>8000</td>\n",
       "      <td>8000</td>\n",
       "      <td>8000</td>\n",
       "      <td>8000</td>\n",
       "      <td>8000</td>\n",
       "    </tr>\n",
       "    <tr>\n",
       "      <th>unique</th>\n",
       "      <td>8000</td>\n",
       "      <td>3726</td>\n",
       "      <td>4</td>\n",
       "      <td>3994</td>\n",
       "      <td>7991</td>\n",
       "      <td>227</td>\n",
       "      <td>233</td>\n",
       "      <td>244</td>\n",
       "      <td>248</td>\n",
       "      <td>2</td>\n",
       "    </tr>\n",
       "    <tr>\n",
       "      <th>top</th>\n",
       "      <td>training.en-en.5076</td>\n",
       "      <td>round</td>\n",
       "      <td>NOUN</td>\n",
       "      <td>Intervention of independent personalities incl...</td>\n",
       "      <td>The escalating production and acquisition of a...</td>\n",
       "      <td>4</td>\n",
       "      <td>34</td>\n",
       "      <td>4</td>\n",
       "      <td>50</td>\n",
       "      <td>T</td>\n",
       "    </tr>\n",
       "    <tr>\n",
       "      <th>freq</th>\n",
       "      <td>1</td>\n",
       "      <td>6</td>\n",
       "      <td>4124</td>\n",
       "      <td>4</td>\n",
       "      <td>2</td>\n",
       "      <td>220</td>\n",
       "      <td>100</td>\n",
       "      <td>177</td>\n",
       "      <td>89</td>\n",
       "      <td>4000</td>\n",
       "    </tr>\n",
       "  </tbody>\n",
       "</table>\n",
       "</div>"
      ],
      "text/plain": [
       "                         id  lemma   pos  \\\n",
       "count                  8000   8000  8000   \n",
       "unique                 8000   3726     4   \n",
       "top     training.en-en.5076  round  NOUN   \n",
       "freq                      1      6  4124   \n",
       "\n",
       "                                                sentence1  \\\n",
       "count                                                8000   \n",
       "unique                                               3994   \n",
       "top     Intervention of independent personalities incl...   \n",
       "freq                                                    4   \n",
       "\n",
       "                                                sentence2 start1  end1 start2  \\\n",
       "count                                                8000   8000  8000   8000   \n",
       "unique                                               7991    227   233    244   \n",
       "top     The escalating production and acquisition of a...      4    34      4   \n",
       "freq                                                    2    220   100    177   \n",
       "\n",
       "        end2   tag  \n",
       "count   8000  8000  \n",
       "unique   248     2  \n",
       "top       50     T  \n",
       "freq      89  4000  "
      ]
     },
     "execution_count": 4,
     "metadata": {},
     "output_type": "execute_result"
    }
   ],
   "source": [
    "df.describe()"
   ]
  },
  {
   "cell_type": "markdown",
   "metadata": {},
   "source": [
    "### Посмотрим на распределение слов по частям речи"
   ]
  },
  {
   "cell_type": "code",
   "execution_count": 5,
   "metadata": {
    "scrolled": true
   },
   "outputs": [
    {
     "data": {
      "text/plain": [
       "<AxesSubplot:>"
      ]
     },
     "execution_count": 5,
     "metadata": {},
     "output_type": "execute_result"
    },
    {
     "data": {
      "image/png": "[encoded data removed]",
      "text/plain": [
       "<Figure size 432x288 with 1 Axes>"
      ]
     },
     "metadata": {
      "needs_background": "light"
     },
     "output_type": "display_data"
    }
   ],
   "source": [
    "df['pos'].value_counts(normalize=True).plot(kind='bar')"
   ]
  },
  {
   "cell_type": "markdown",
   "metadata": {},
   "source": [
    "### Каждое слово встречается в 2, 4 или 6 парах предложений"
   ]
  },
  {
   "cell_type": "code",
   "execution_count": 6,
   "metadata": {
    "scrolled": false
   },
   "outputs": [
    {
     "data": {
      "text/plain": [
       "2    3459\n",
       "4     260\n",
       "6       7\n",
       "Name: lemma, dtype: int64"
      ]
     },
     "execution_count": 6,
     "metadata": {},
     "output_type": "execute_result"
    }
   ],
   "source": [
    "df['lemma'].value_counts().value_counts()"
   ]
  },
  {
   "cell_type": "markdown",
   "metadata": {},
   "source": [
    "### Тэги True и False втречаются одинаково часто"
   ]
  },
  {
   "cell_type": "code",
   "execution_count": 7,
   "metadata": {},
   "outputs": [
    {
     "data": {
      "text/plain": [
       "T    4000\n",
       "F    4000\n",
       "Name: tag, dtype: int64"
      ]
     },
     "execution_count": 7,
     "metadata": {},
     "output_type": "execute_result"
    }
   ],
   "source": [
    "df['tag'].value_counts()"
   ]
  },
  {
   "cell_type": "markdown",
   "metadata": {},
   "source": [
    "### Посмотрим, как часто слова употребляются в одинаковых значениях и как часто в разных, а также в каком соотношении"
   ]
  },
  {
   "cell_type": "code",
   "execution_count": 8,
   "metadata": {},
   "outputs": [
    {
     "data": {
      "text/plain": [
       "<AxesSubplot:xlabel='true_tag_count,false_tag_count'>"
      ]
     },
     "execution_count": 8,
     "metadata": {},
     "output_type": "execute_result"
    },
    {
     "data": {
      "image/png": "[encoded data removed]",
      "text/plain": [
       "<Figure size 432x288 with 1 Axes>"
      ]
     },
     "metadata": {
      "needs_background": "light"
     },
     "output_type": "display_data"
    }
   ],
   "source": [
    "lemma_tag_stats_df = pd.DataFrame(columns=['lemma', 'true_tag_count', 'false_tag_count'])\n",
    "\n",
    "for lemma, tag_df in df[['lemma', 'tag']].value_counts().reset_index(name='tag_count').groupby('lemma'):\n",
    "    tag_stats = {\n",
    "        'lemma': lemma,\n",
    "        'true_tag_count': 0,\n",
    "        'false_tag_count': 0\n",
    "    }\n",
    "    \n",
    "    for _, (_, tag, tag_count) in tag_df.iterrows():\n",
    "        if tag == 'T':\n",
    "            tag_stats['true_tag_count'] = tag_count\n",
    "        elif tag == 'F':\n",
    "            tag_stats['false_tag_count'] = tag_count\n",
    "        else:\n",
    "            raise RuntimeError('Unknown tag: {}'.format(tag))\n",
    "\n",
    "    lemma_tag_stats_df = lemma_tag_stats_df.append(tag_stats, ignore_index=True)\n",
    "    \n",
    "lemma_tag_stats_df[['true_tag_count', 'false_tag_count']].value_counts(normalize=True\n",
    ").plot(kind='bar')"
   ]
  },
  {
   "cell_type": "markdown",
   "metadata": {},
   "source": [
    "### Посмотрим, в каких частях речи встречаются слова, и в каком соотношении"
   ]
  },
  {
   "cell_type": "code",
   "execution_count": 9,
   "metadata": {},
   "outputs": [
    {
     "data": {
      "text/plain": [
       "<AxesSubplot:xlabel='noun_count,verb_count,adj_count,adv_count'>"
      ]
     },
     "execution_count": 9,
     "metadata": {},
     "output_type": "execute_result"
    },
    {
     "data": {
      "image/png": "[encoded data removed]",
      "text/plain": [
       "<Figure size 432x288 with 1 Axes>"
      ]
     },
     "metadata": {
      "needs_background": "light"
     },
     "output_type": "display_data"
    }
   ],
   "source": [
    "lemma_pos_stats_df = pd.DataFrame(columns=['lemma', 'noun_count', 'verb_count', 'adj_count', 'adv_count'])\n",
    "\n",
    "for lemma, pos_df in df[['lemma', 'pos']].value_counts().reset_index(name='pos_count').groupby('lemma'):\n",
    "    pos_stats = {\n",
    "        'lemma': lemma,\n",
    "        'noun_count': 0,\n",
    "        'verb_count': 0,\n",
    "        'adj_count': 0,\n",
    "        'adv_count': 0\n",
    "    }\n",
    "    \n",
    "    for _, (_, pos, pos_count) in pos_df.iterrows():\n",
    "        if pos == 'NOUN':\n",
    "            pos_stats['noun_count'] = pos_count\n",
    "        elif pos == 'VERB':\n",
    "            pos_stats['verb_count'] = pos_count\n",
    "        elif pos == 'ADJ':\n",
    "            pos_stats['adj_count'] = pos_count\n",
    "        elif pos == 'ADV':\n",
    "            pos_stats['adv_count'] = pos_count\n",
    "        else:\n",
    "            raise RuntimeError('Unknown pos: {}'.format(pos))\n",
    "\n",
    "    lemma_pos_stats_df = lemma_pos_stats_df.append(pos_stats, ignore_index=True)\n",
    "\n",
    "lemma_pos_stats_df[['noun_count', 'verb_count', 'adj_count', 'adv_count']].value_counts(normalize=True\n",
    ").plot(kind='bar')"
   ]
  }
 ],
 "metadata": {
  "kernelspec": {
   "display_name": "Python 3",
   "language": "python",
   "name": "python3"
  },
  "language_info": {
   "codemirror_mode": {
    "name": "ipython",
    "version": 3
   },
   "file_extension": ".py",
   "mimetype": "text/x-python",
   "name": "python",
   "nbconvert_exporter": "python",
   "pygments_lexer": "ipython3",
   "version": "3.8.5"
  }
 },
 "nbformat": 4,
 "nbformat_minor": 4
}
