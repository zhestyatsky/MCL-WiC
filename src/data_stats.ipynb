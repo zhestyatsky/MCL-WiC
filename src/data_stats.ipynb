{
 "cells": [
  {
   "cell_type": "code",
   "execution_count": 1,
   "metadata": {},
   "outputs": [],
   "source": [
    "import json\n",
    "import pandas as pd\n",
    "\n",
    "with open('../data/training/multilingual/training.en-en.data') as f:\n",
    "    train_en_en_X = json.load(f)\n",
    "    \n",
    "with open('../data/training/multilingual/training.en-en.gold') as f:\n",
    "    train_en_en_y = json.load(f)\n",
    "    \n",
    "df_X = pd.DataFrame(train_en_en_X)\n",
    "df_y = pd.DataFrame(train_en_en_y)"
   ]
  },
  {
   "cell_type": "code",
   "execution_count": 2,
   "metadata": {
    "scrolled": false
   },
   "outputs": [
    {
     "data": {
      "text/html": [
       "<div>\n",
       "<style scoped>\n",
       "    .dataframe tbody tr th:only-of-type {\n",
       "        vertical-align: middle;\n",
       "    }\n",
       "\n",
       "    .dataframe tbody tr th {\n",
       "        vertical-align: top;\n",
       "    }\n",
       "\n",
       "    .dataframe thead th {\n",
       "        text-align: right;\n",
       "    }\n",
       "</style>\n",
       "<table border=\"1\" class=\"dataframe\">\n",
       "  <thead>\n",
       "    <tr style=\"text-align: right;\">\n",
       "      <th></th>\n",
       "      <th>id</th>\n",
       "      <th>lemma</th>\n",
       "      <th>pos</th>\n",
       "      <th>sentence1</th>\n",
       "      <th>sentence2</th>\n",
       "      <th>start1</th>\n",
       "      <th>end1</th>\n",
       "      <th>start2</th>\n",
       "      <th>end2</th>\n",
       "    </tr>\n",
       "  </thead>\n",
       "  <tbody>\n",
       "    <tr>\n",
       "      <th>0</th>\n",
       "      <td>training.en-en.0</td>\n",
       "      <td>play</td>\n",
       "      <td>NOUN</td>\n",
       "      <td>In that context of coordination and integratio...</td>\n",
       "      <td>A musical play on the same subject was also st...</td>\n",
       "      <td>69</td>\n",
       "      <td>73</td>\n",
       "      <td>10</td>\n",
       "      <td>14</td>\n",
       "    </tr>\n",
       "    <tr>\n",
       "      <th>1</th>\n",
       "      <td>training.en-en.1</td>\n",
       "      <td>play</td>\n",
       "      <td>NOUN</td>\n",
       "      <td>In that context of coordination and integratio...</td>\n",
       "      <td>In schools, when water is needed, it is girls ...</td>\n",
       "      <td>69</td>\n",
       "      <td>73</td>\n",
       "      <td>112</td>\n",
       "      <td>116</td>\n",
       "    </tr>\n",
       "    <tr>\n",
       "      <th>2</th>\n",
       "      <td>training.en-en.2</td>\n",
       "      <td>esteem</td>\n",
       "      <td>NOUN</td>\n",
       "      <td>We would also like to convey our esteem and co...</td>\n",
       "      <td>Father Lini said that, because of that, the Un...</td>\n",
       "      <td>33</td>\n",
       "      <td>39</td>\n",
       "      <td>106</td>\n",
       "      <td>112</td>\n",
       "    </tr>\n",
       "    <tr>\n",
       "      <th>3</th>\n",
       "      <td>training.en-en.3</td>\n",
       "      <td>esteem</td>\n",
       "      <td>NOUN</td>\n",
       "      <td>We would also like to convey our esteem and co...</td>\n",
       "      <td>This attests to the esteem and trust enjoyed b...</td>\n",
       "      <td>33</td>\n",
       "      <td>39</td>\n",
       "      <td>20</td>\n",
       "      <td>26</td>\n",
       "    </tr>\n",
       "    <tr>\n",
       "      <th>4</th>\n",
       "      <td>training.en-en.4</td>\n",
       "      <td>holder</td>\n",
       "      <td>NOUN</td>\n",
       "      <td>This growth is the direct result of the increa...</td>\n",
       "      <td>A person may be either the holder of an option...</td>\n",
       "      <td>74</td>\n",
       "      <td>81</td>\n",
       "      <td>27</td>\n",
       "      <td>33</td>\n",
       "    </tr>\n",
       "  </tbody>\n",
       "</table>\n",
       "</div>"
      ],
      "text/plain": [
       "                 id   lemma   pos  \\\n",
       "0  training.en-en.0    play  NOUN   \n",
       "1  training.en-en.1    play  NOUN   \n",
       "2  training.en-en.2  esteem  NOUN   \n",
       "3  training.en-en.3  esteem  NOUN   \n",
       "4  training.en-en.4  holder  NOUN   \n",
       "\n",
       "                                           sentence1  \\\n",
       "0  In that context of coordination and integratio...   \n",
       "1  In that context of coordination and integratio...   \n",
       "2  We would also like to convey our esteem and co...   \n",
       "3  We would also like to convey our esteem and co...   \n",
       "4  This growth is the direct result of the increa...   \n",
       "\n",
       "                                           sentence2 start1 end1 start2 end2  \n",
       "0  A musical play on the same subject was also st...     69   73     10   14  \n",
       "1  In schools, when water is needed, it is girls ...     69   73    112  116  \n",
       "2  Father Lini said that, because of that, the Un...     33   39    106  112  \n",
       "3  This attests to the esteem and trust enjoyed b...     33   39     20   26  \n",
       "4  A person may be either the holder of an option...     74   81     27   33  "
      ]
     },
     "execution_count": 2,
     "metadata": {},
     "output_type": "execute_result"
    }
   ],
   "source": [
    "df_X.head()"
   ]
  },
  {
   "cell_type": "code",
   "execution_count": 3,
   "metadata": {},
   "outputs": [
    {
     "data": {
      "text/plain": [
       "(8000, 9)"
      ]
     },
     "execution_count": 3,
     "metadata": {},
     "output_type": "execute_result"
    }
   ],
   "source": [
    "df_X.shape"
   ]
  },
  {
   "cell_type": "code",
   "execution_count": 4,
   "metadata": {},
   "outputs": [
    {
     "data": {
      "text/html": [
       "<div>\n",
       "<style scoped>\n",
       "    .dataframe tbody tr th:only-of-type {\n",
       "        vertical-align: middle;\n",
       "    }\n",
       "\n",
       "    .dataframe tbody tr th {\n",
       "        vertical-align: top;\n",
       "    }\n",
       "\n",
       "    .dataframe thead th {\n",
       "        text-align: right;\n",
       "    }\n",
       "</style>\n",
       "<table border=\"1\" class=\"dataframe\">\n",
       "  <thead>\n",
       "    <tr style=\"text-align: right;\">\n",
       "      <th></th>\n",
       "      <th>id</th>\n",
       "      <th>lemma</th>\n",
       "      <th>pos</th>\n",
       "      <th>sentence1</th>\n",
       "      <th>sentence2</th>\n",
       "      <th>start1</th>\n",
       "      <th>end1</th>\n",
       "      <th>start2</th>\n",
       "      <th>end2</th>\n",
       "    </tr>\n",
       "  </thead>\n",
       "  <tbody>\n",
       "    <tr>\n",
       "      <th>count</th>\n",
       "      <td>8000</td>\n",
       "      <td>8000</td>\n",
       "      <td>8000</td>\n",
       "      <td>8000</td>\n",
       "      <td>8000</td>\n",
       "      <td>8000</td>\n",
       "      <td>8000</td>\n",
       "      <td>8000</td>\n",
       "      <td>8000</td>\n",
       "    </tr>\n",
       "    <tr>\n",
       "      <th>unique</th>\n",
       "      <td>8000</td>\n",
       "      <td>3726</td>\n",
       "      <td>6</td>\n",
       "      <td>3994</td>\n",
       "      <td>7991</td>\n",
       "      <td>227</td>\n",
       "      <td>233</td>\n",
       "      <td>244</td>\n",
       "      <td>248</td>\n",
       "    </tr>\n",
       "    <tr>\n",
       "      <th>top</th>\n",
       "      <td>training.en-en.1439</td>\n",
       "      <td>double</td>\n",
       "      <td>NOUN</td>\n",
       "      <td>Wages have declined sharply as a proportion of...</td>\n",
       "      <td>That was a symptom partly of inadequately vigo...</td>\n",
       "      <td>4</td>\n",
       "      <td>34</td>\n",
       "      <td>4</td>\n",
       "      <td>50</td>\n",
       "    </tr>\n",
       "    <tr>\n",
       "      <th>freq</th>\n",
       "      <td>1</td>\n",
       "      <td>6</td>\n",
       "      <td>4122</td>\n",
       "      <td>4</td>\n",
       "      <td>2</td>\n",
       "      <td>220</td>\n",
       "      <td>100</td>\n",
       "      <td>177</td>\n",
       "      <td>89</td>\n",
       "    </tr>\n",
       "  </tbody>\n",
       "</table>\n",
       "</div>"
      ],
      "text/plain": [
       "                         id   lemma   pos  \\\n",
       "count                  8000    8000  8000   \n",
       "unique                 8000    3726     6   \n",
       "top     training.en-en.1439  double  NOUN   \n",
       "freq                      1       6  4122   \n",
       "\n",
       "                                                sentence1  \\\n",
       "count                                                8000   \n",
       "unique                                               3994   \n",
       "top     Wages have declined sharply as a proportion of...   \n",
       "freq                                                    4   \n",
       "\n",
       "                                                sentence2 start1  end1 start2  \\\n",
       "count                                                8000   8000  8000   8000   \n",
       "unique                                               7991    227   233    244   \n",
       "top     That was a symptom partly of inadequately vigo...      4    34      4   \n",
       "freq                                                    2    220   100    177   \n",
       "\n",
       "        end2  \n",
       "count   8000  \n",
       "unique   248  \n",
       "top       50  \n",
       "freq      89  "
      ]
     },
     "execution_count": 4,
     "metadata": {},
     "output_type": "execute_result"
    }
   ],
   "source": [
    "df_X.describe()"
   ]
  },
  {
   "cell_type": "code",
   "execution_count": 5,
   "metadata": {},
   "outputs": [
    {
     "data": {
      "text/plain": [
       "<AxesSubplot:>"
      ]
     },
     "execution_count": 5,
     "metadata": {},
     "output_type": "execute_result"
    },
    {
     "name": "stderr",
     "output_type": "stream",
     "text": [
      "/Users/zhestyatsky/.pyenv/versions/3.8.5/envs/venv/lib/python3.8/site-packages/matplotlib/backends/backend_agg.py:238: RuntimeWarning: Glyph 9 missing from current font.\n",
      "  font.set_text(s, 0.0, flags=flags)\n",
      "/Users/zhestyatsky/.pyenv/versions/3.8.5/envs/venv/lib/python3.8/site-packages/matplotlib/backends/backend_agg.py:201: RuntimeWarning: Glyph 9 missing from current font.\n",
      "  font.set_text(s, 0, flags=flags)\n"
     ]
    },
    {
     "data": {
      "image/png": "[encoded data removed]",
      "text/plain": [
       "<Figure size 432x288 with 1 Axes>"
      ]
     },
     "metadata": {
      "needs_background": "light"
     },
     "output_type": "display_data"
    }
   ],
   "source": [
    "df_X['pos'].value_counts(normalize=True).plot(kind='bar')"
   ]
  },
  {
   "cell_type": "code",
   "execution_count": 6,
   "metadata": {},
   "outputs": [
    {
     "data": {
      "text/plain": [
       "double     6\n",
       "round      6\n",
       "first      6\n",
       "high       6\n",
       "right      6\n",
       "prime      6\n",
       "home       6\n",
       "compact    4\n",
       "deposit    4\n",
       "heel       4\n",
       "down       4\n",
       "tame       4\n",
       "market     4\n",
       "plant      4\n",
       "blast      4\n",
       "Name: lemma, dtype: int64"
      ]
     },
     "execution_count": 6,
     "metadata": {},
     "output_type": "execute_result"
    }
   ],
   "source": [
    "df_X['lemma'].value_counts()[:15]"
   ]
  },
  {
   "cell_type": "code",
   "execution_count": 7,
   "metadata": {},
   "outputs": [
    {
     "data": {
      "text/plain": [
       "<AxesSubplot:>"
      ]
     },
     "execution_count": 7,
     "metadata": {},
     "output_type": "execute_result"
    },
    {
     "data": {
      "image/png": "[encoded data removed]",
      "text/plain": [
       "<Figure size 432x288 with 1 Axes>"
      ]
     },
     "metadata": {
      "needs_background": "light"
     },
     "output_type": "display_data"
    }
   ],
   "source": [
    "df_y['tag'].value_counts(normalize=True).plot(kind='bar')"
   ]
  }
 ],
 "metadata": {
  "kernelspec": {
   "display_name": "Python 3",
   "language": "python",
   "name": "python3"
  },
  "language_info": {
   "codemirror_mode": {
    "name": "ipython",
    "version": 3
   },
   "file_extension": ".py",
   "mimetype": "text/x-python",
   "name": "python",
   "nbconvert_exporter": "python",
   "pygments_lexer": "ipython3",
   "version": "3.8.5"
  }
 },
 "nbformat": 4,
 "nbformat_minor": 4
}
